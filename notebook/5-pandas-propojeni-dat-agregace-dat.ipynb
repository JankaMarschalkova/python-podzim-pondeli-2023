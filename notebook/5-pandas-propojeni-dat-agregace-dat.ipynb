{
 "cells": [
  {
   "attachments": {},
   "cell_type": "markdown",
   "metadata": {},
   "source": [
    "# `pandas`: Propojení dat\n",
    "Odkaz na lekci: https://kodim.cz/kurzy/python-data-1/python-pro-data-1/agregace-a-spojovani/propojeni-dat"
   ]
  },
  {
   "cell_type": "code",
   "execution_count": null,
   "metadata": {},
   "outputs": [],
   "source": [
    "import pandas"
   ]
  },
  {
   "attachments": {},
   "cell_type": "markdown",
   "metadata": {},
   "source": [
    "### Načtení dat\n",
    "\n",
    "Data, se kterými budeme pracovat, si můžeš stáhnout zde:\n",
    "* [studenti.csv](https://kodim.cz/cms/assets/kurzy/python-data-1/python-pro-data-1/agregace-a-spojovani/studenti.csv)\n",
    "* [predsedajici.csv](https://kodim.cz/cms/assets/kurzy/python-data-1/python-pro-data-1/agregace-a-spojovani/predsedajici.csv)"
   ]
  },
  {
   "cell_type": "code",
   "execution_count": null,
   "metadata": {},
   "outputs": [],
   "source": [
    "studenti = pandas.read_csv(\"studenti.csv\")\n",
    "studenti.head()\n",
    "# studenti.info()"
   ]
  },
  {
   "cell_type": "code",
   "execution_count": null,
   "metadata": {},
   "outputs": [],
   "source": [
    "predsedajici = pandas.read_csv(\"predsedajici.csv\")\n",
    "predsedajici.head()\n",
    "# predsedajici.info()"
   ]
  },
  {
   "attachments": {},
   "cell_type": "markdown",
   "metadata": {},
   "source": [
    "Také budeme potřebovat tabulku `maturita.csv`, kterou jsme si vytvořili minulou lekci. Pokud jí nemáš po ruce, stáhni si jí zde: [maturita.csv](https://raw.githubusercontent.com/lutydlitatova/python-jaro-2023/main/notebook/maturita.csv)"
   ]
  },
  {
   "cell_type": "code",
   "execution_count": null,
   "metadata": {},
   "outputs": [],
   "source": [
    "maturita = pandas.read_csv(\"maturita.csv\")\n",
    "maturita.head()\n",
    "# maturita.info()"
   ]
  },
  {
   "attachments": {},
   "cell_type": "markdown",
   "metadata": {},
   "source": [
    "### Propojení dat pomocí `merge`\n",
    "Jak `pandas` pozná, podle kterých sloupců data propojit? Jak můžeme sloupce, podle kterých chceme data propojit, specifikovat?"
   ]
  },
  {
   "cell_type": "code",
   "execution_count": null,
   "metadata": {},
   "outputs": [],
   "source": [
    "maturita_se_studenty = pandas.merge(maturita, studenti)\n",
    "maturita_se_studenty"
   ]
  },
  {
   "attachments": {},
   "cell_type": "markdown",
   "metadata": {},
   "source": [
    "Propojení dat o maturitě s daty o předsedajících se nepovede. Proč? Na základě kterého sloupce nebo kterých sloupců chceme data propojit? Budeme také muset vyřešit záhadu poztrácených dat."
   ]
  },
  {
   "cell_type": "code",
   "execution_count": null,
   "metadata": {},
   "outputs": [],
   "source": [
    "maturita_s_predsedajicimi = pandas.merge(maturita_se_studenty, predsedajici, on=['den'])\n",
    "maturita_s_predsedajicimi"
   ]
  },
  {
   "attachments": {},
   "cell_type": "markdown",
   "metadata": {},
   "source": [
    "# `pandas`: Agregace dat\n",
    "Odkaz na lekci: https://kodim.cz/kurzy/python-data-1/python-pro-data-1/agregace-a-spojovani/agregace"
   ]
  },
  {
   "cell_type": "code",
   "execution_count": null,
   "metadata": {},
   "outputs": [],
   "source": [
    "maturita_s_predsedajicimi.groupby(\"predmet\")"
   ]
  },
  {
   "cell_type": "code",
   "execution_count": null,
   "metadata": {},
   "outputs": [],
   "source": [
    "maturita_s_predsedajicimi.groupby(\"predmet\")[\"znamka\"]"
   ]
  },
  {
   "cell_type": "code",
   "execution_count": null,
   "metadata": {},
   "outputs": [],
   "source": [
    "maturita_s_predsedajicimi.groupby(\"predmet\")[\"znamka\"].mean()"
   ]
  },
  {
   "cell_type": "code",
   "execution_count": null,
   "metadata": {},
   "outputs": [],
   "source": [
    "maturita_s_predsedajicimi.groupby(\"predmet\")[\"znamka\"].max()"
   ]
  },
  {
   "attachments": {},
   "cell_type": "markdown",
   "metadata": {},
   "source": [
    "`size` vs `count`\n",
    "* https://pandas.pydata.org/docs/reference/api/pandas.core.groupby.GroupBy.size.html\n",
    "* https://pandas.pydata.org/docs/reference/api/pandas.core.groupby.GroupBy.count.html"
   ]
  },
  {
   "cell_type": "code",
   "execution_count": null,
   "metadata": {},
   "outputs": [],
   "source": [
    "maturita_s_predsedajicimi.groupby(\"predmet\").count()"
   ]
  },
  {
   "cell_type": "code",
   "execution_count": null,
   "metadata": {},
   "outputs": [],
   "source": [
    "maturita_s_predsedajicimi.groupby(\"predmet\").size()"
   ]
  }
 ],
 "metadata": {
  "kernelspec": {
   "display_name": "Python 3",
   "language": "python",
   "name": "python3"
  },
  "language_info": {
   "codemirror_mode": {
    "name": "ipython",
    "version": 3
   },
   "file_extension": ".py",
   "mimetype": "text/x-python",
   "name": "python",
   "nbconvert_exporter": "python",
   "pygments_lexer": "ipython3",
   "version": "3.9.7"
  },
  "orig_nbformat": 4
 },
 "nbformat": 4,
 "nbformat_minor": 2
}
