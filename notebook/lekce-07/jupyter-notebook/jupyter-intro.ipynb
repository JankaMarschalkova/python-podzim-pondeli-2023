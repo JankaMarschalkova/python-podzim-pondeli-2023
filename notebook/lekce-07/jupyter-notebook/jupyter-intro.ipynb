{
 "cells": [
  {
   "attachments": {},
   "cell_type": "markdown",
   "metadata": {},
   "source": [
    "# První Jupyter notebook\n",
    "V dnešní lekci si ukážeme jak vytvořit, upravit a spouštět Jupyter notebook."
   ]
  },
  {
   "attachments": {},
   "cell_type": "markdown",
   "metadata": {},
   "source": [
    "Notebook má dva typy buněk:\n",
    "* **Markdown** - slouží k formátované dokumentaci\n",
    "* **Code** - slouží ke spouštění kódu v Pythonu"
   ]
  },
  {
   "cell_type": "code",
   "execution_count": 1,
   "metadata": {},
   "outputs": [
    {
     "name": "stdout",
     "output_type": "stream",
     "text": [
      "Hello world!\n"
     ]
    }
   ],
   "source": [
    "print(\"Hello world!\")"
   ]
  },
  {
   "attachments": {},
   "cell_type": "markdown",
   "metadata": {},
   "source": [
    "Nemusíme pokaždé využívat `print` - buňka vždy vypíše vypíše výsledek posledního příkazu:"
   ]
  },
  {
   "cell_type": "code",
   "execution_count": 2,
   "metadata": {},
   "outputs": [
    {
     "data": {
      "text/plain": [
       "200"
      ]
     },
     "execution_count": 2,
     "metadata": {},
     "output_type": "execute_result"
    }
   ],
   "source": [
    "a = 185\n",
    "b = 15\n",
    "a + b"
   ]
  },
  {
   "attachments": {},
   "cell_type": "markdown",
   "metadata": {},
   "source": [
    "Do buněk s kódem můžeme psát vše, co jsme psali do programů - příkazy, funkce, třídy, výpočty ... :"
   ]
  },
  {
   "cell_type": "code",
   "execution_count": 3,
   "metadata": {},
   "outputs": [],
   "source": [
    "class Pes:\n",
    "    def __init__(self, jmeno: str, vek: int) -> None:\n",
    "        self.jmeno = jmeno\n",
    "        self.vek = vek\n",
    "    \n",
    "    def zastekej(self) -> None:\n",
    "        print(f\"Jmenuji se {self.jmeno}. Haf haf!\")"
   ]
  },
  {
   "attachments": {},
   "cell_type": "markdown",
   "metadata": {},
   "source": [
    "Po spuštění buňky je její výsledek (například nová proměnná, definice funkce, definice třídy ...) dostupný v celém notebooku:"
   ]
  },
  {
   "cell_type": "code",
   "execution_count": 4,
   "metadata": {},
   "outputs": [
    {
     "name": "stdout",
     "output_type": "stream",
     "text": [
      "Jmenuji se Alik. Haf haf!\n",
      "Jmenuji se Azor. Haf haf!\n",
      "Jmenuji se Aron. Haf haf!\n"
     ]
    }
   ],
   "source": [
    "psi_jmena = [\"Alik\", \"Azor\", \"Aron\"]\n",
    "\n",
    "for jmeno in psi_jmena:\n",
    "    pes = Pes(jmeno, vek=0)\n",
    "    pes.zastekej()"
   ]
  },
  {
   "attachments": {},
   "cell_type": "markdown",
   "metadata": {},
   "source": [
    "Co vypíše následující buňka?"
   ]
  },
  {
   "cell_type": "code",
   "execution_count": 5,
   "metadata": {},
   "outputs": [
    {
     "data": {
      "text/plain": [
       "'Aron'"
      ]
     },
     "execution_count": 5,
     "metadata": {},
     "output_type": "execute_result"
    }
   ],
   "source": [
    "pes.jmeno\n",
    "# koment"
   ]
  },
  {
   "attachments": {},
   "cell_type": "markdown",
   "metadata": {},
   "source": [
    "Pozor, **na pořadí spuštění buněk záleží**:"
   ]
  },
  {
   "cell_type": "code",
   "execution_count": 6,
   "metadata": {},
   "outputs": [
    {
     "ename": "NameError",
     "evalue": "name 'Stene' is not defined",
     "output_type": "error",
     "traceback": [
      "\u001b[0;31m---------------------------------------------------------------------------\u001b[0m",
      "\u001b[0;31mNameError\u001b[0m                                 Traceback (most recent call last)",
      "\u001b[1;32m/Users/entiaperse/Documents/GitHub/python-podzim-pondeli-2023/notebook/lekce-07/jupyter-notebook/jupyter-intro.ipynb Cell 13\u001b[0m line \u001b[0;36m1\n\u001b[0;32m----> <a href='vscode-notebook-cell:/Users/entiaperse/Documents/GitHub/python-podzim-pondeli-2023/notebook/lekce-07/jupyter-notebook/jupyter-intro.ipynb#X16sZmlsZQ%3D%3D?line=0'>1</a>\u001b[0m stene \u001b[39m=\u001b[39m Stene(\u001b[39m\"\u001b[39m\u001b[39mBella\u001b[39m\u001b[39m\"\u001b[39m)\n\u001b[1;32m      <a href='vscode-notebook-cell:/Users/entiaperse/Documents/GitHub/python-podzim-pondeli-2023/notebook/lekce-07/jupyter-notebook/jupyter-intro.ipynb#X16sZmlsZQ%3D%3D?line=1'>2</a>\u001b[0m stene\u001b[39m.\u001b[39mzastekej()\n",
      "\u001b[0;31mNameError\u001b[0m: name 'Stene' is not defined"
     ]
    }
   ],
   "source": [
    "stene = Stene(\"Bella\")\n",
    "stene.zastekej()"
   ]
  },
  {
   "cell_type": "code",
   "execution_count": null,
   "metadata": {},
   "outputs": [],
   "source": [
    "class Stene(Pes):\n",
    "    def __init__(self, jmeno: str) -> None:\n",
    "        super().__init__(jmeno, vek=0)"
   ]
  },
  {
   "attachments": {},
   "cell_type": "markdown",
   "metadata": {},
   "source": [
    "## Cvičení\n",
    "* Ověř, že máš nainstalované rozšíření Jupyter.\n",
    "* Vytvoř si prázdný Jupyter notebook a vyzkoušej, že v něm můžeš spustit nějaký jednoduchý příkaz v Pythonu."
   ]
  },
  {
   "cell_type": "markdown",
   "metadata": {},
   "source": [
    "## Tipy"
   ]
  },
  {
   "cell_type": "code",
   "execution_count": null,
   "metadata": {},
   "outputs": [
    {
     "name": "stdout",
     "output_type": "stream",
     "text": [
      "\u001b[0;31mDocstring:\u001b[0m\n",
      "print(value, ..., sep=' ', end='\\n', file=sys.stdout, flush=False)\n",
      "\n",
      "Prints the values to a stream, or to sys.stdout by default.\n",
      "Optional keyword arguments:\n",
      "file:  a file-like object (stream); defaults to the current sys.stdout.\n",
      "sep:   string inserted between values, default a space.\n",
      "end:   string appended after the last value, default a newline.\n",
      "flush: whether to forcibly flush the stream.\n",
      "\u001b[0;31mType:\u001b[0m      builtin_function_or_method\n"
     ]
    }
   ],
   "source": [
    "## Napověda\n",
    "\n",
    "print?"
   ]
  },
  {
   "cell_type": "code",
   "execution_count": null,
   "metadata": {},
   "outputs": [
    {
     "name": "stdout",
     "output_type": "stream",
     "text": [
      "anetapopelova\n"
     ]
    }
   ],
   "source": [
    "## Příkazová řádka\n",
    "\n",
    "!whoami"
   ]
  },
  {
   "cell_type": "markdown",
   "metadata": {},
   "source": [
    "15 Tips and Tricks to Use Jupyter Notebook More Efficiently\n",
    "\n",
    "<https://towardsdatascience.com/15-tips-and-tricks-to-use-jupyter-notebook-more-efficiently-ef05ede4e4b9>"
   ]
  }
 ],
 "metadata": {
  "kernelspec": {
   "display_name": "Python 3",
   "language": "python",
   "name": "python3"
  },
  "language_info": {
   "codemirror_mode": {
    "name": "ipython",
    "version": 3
   },
   "file_extension": ".py",
   "mimetype": "text/x-python",
   "name": "python",
   "nbconvert_exporter": "python",
   "pygments_lexer": "ipython3",
   "version": "3.9.6"
  },
  "orig_nbformat": 4
 },
 "nbformat": 4,
 "nbformat_minor": 2
}
