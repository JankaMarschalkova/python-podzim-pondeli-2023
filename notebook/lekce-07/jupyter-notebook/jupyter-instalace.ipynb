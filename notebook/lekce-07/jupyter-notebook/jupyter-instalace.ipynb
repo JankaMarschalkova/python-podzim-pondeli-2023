{
 "cells": [
  {
   "cell_type": "markdown",
   "metadata": {},
   "source": [
    "# Jupyter Notebook Intro"
   ]
  },
  {
   "cell_type": "markdown",
   "metadata": {},
   "source": [
    "Jupyter Notebook je webový editor sloužící k vytváření komplexních dokumentů.\n",
    "\n",
    "Může obsahovat strukturovaný text, obrázky i kód (nejen v Pythonu), grafy, matematické vzorce (LaTeX) a další interaktivní prvky."
   ]
  },
  {
   "cell_type": "code",
   "execution_count": 1,
   "metadata": {},
   "outputs": [
    {
     "name": "stdout",
     "output_type": "stream",
     "text": [
      "Tohle je kus kodu.\n"
     ]
    }
   ],
   "source": [
    "print(\"Tohle je kus kodu.\")"
   ]
  },
  {
   "cell_type": "markdown",
   "metadata": {},
   "source": [
    "## Instalace"
   ]
  },
  {
   "cell_type": "markdown",
   "metadata": {},
   "source": [
    "`pip install jupyter` # Windows\n",
    "\n",
    "`pip3 install jupyter` # Mac OS, Linux\n",
    "\n",
    "Tip: Pomocí `%pip install pandas` lze instalovat balíčky přímo z notebooku. "
   ]
  },
  {
   "cell_type": "code",
   "execution_count": 7,
   "metadata": {},
   "outputs": [
    {
     "name": "stdout",
     "output_type": "stream",
     "text": [
      "module is installed\n"
     ]
    }
   ],
   "source": [
    "try:\n",
    "    import jupyter\n",
    "\n",
    "    print(\"module is installed\")\n",
    "except ModuleNotFoundError:\n",
    "    print(\"module is not installed\")"
   ]
  },
  {
   "cell_type": "markdown",
   "metadata": {},
   "source": [
    "## Spuštění ve webovém prohlížeči"
   ]
  },
  {
   "cell_type": "markdown",
   "metadata": {},
   "source": [
    "Nyní si někde na disku vytvoříme složku, ve které budeme skladovat naše Jupyter notebooky. \n",
    "\n",
    "V terminálu se přesuneme do této složky a napíšeme:\n",
    "\n",
    "```\n",
    "jupyter notebook\n",
    "```\n",
    "\n",
    "Otevře se nové okno ve vašem výchozím prohlížeči."
   ]
  },
  {
   "cell_type": "markdown",
   "metadata": {},
   "source": [
    "<img src=\"assets/tryjupyter_file.png\" alt=\"jupyter-in-browser\" style=\"width: 800px;\"/>\n",
    "\n"
   ]
  },
  {
   "cell_type": "markdown",
   "metadata": {},
   "source": [
    "## Spuštění ve VS Code"
   ]
  },
  {
   "cell_type": "markdown",
   "metadata": {},
   "source": [
    "Z nabídky rozšíření VS Codu si nainstalujeme si rozšířšní **Jupyter**."
   ]
  },
  {
   "cell_type": "markdown",
   "metadata": {},
   "source": [
    "<img src=\"assets/jupyter-extension.png\" alt=\"vsc-extension\" style=\"width: 800px;\"/>\n"
   ]
  },
  {
   "cell_type": "markdown",
   "metadata": {},
   "source": [
    "Vytvoříme si nový dokument s příponou `.ipynb`. "
   ]
  }
 ],
 "metadata": {
  "kernelspec": {
   "display_name": "Python 3.10.1 64-bit",
   "language": "python",
   "name": "python3"
  },
  "language_info": {
   "codemirror_mode": {
    "name": "ipython",
    "version": 3
   },
   "file_extension": ".py",
   "mimetype": "text/x-python",
   "name": "python",
   "nbconvert_exporter": "python",
   "pygments_lexer": "ipython3",
   "version": "3.9.6"
  },
  "orig_nbformat": 4,
  "vscode": {
   "interpreter": {
    "hash": "aee8b7b246df8f9039afb4144a1f6fd8d2ca17a180786b69acc140d282b71a49"
   }
  }
 },
 "nbformat": 4,
 "nbformat_minor": 2
}
