{
 "cells": [
  {
   "attachments": {},
   "cell_type": "markdown",
   "metadata": {},
   "source": [
    " # Webscraping\n",
    " Odkaz na lekci: https://kodim.cz/kurzy/python-data-1/ziskavani-dat/webscraping"
   ]
  },
  {
   "attachments": {},
   "cell_type": "markdown",
   "metadata": {},
   "source": [
    "Dokumentace modulu `requests-html`: https://requests.readthedocs.io/projects/requests-html/en/latest/"
   ]
  },
  {
   "cell_type": "code",
   "execution_count": null,
   "metadata": {},
   "outputs": [],
   "source": [
    "from requests_html import HTML\n",
    "from requests_html import HTMLSession"
   ]
  },
  {
   "cell_type": "code",
   "execution_count": null,
   "metadata": {},
   "outputs": [],
   "source": [
    "with open('ukazka.html', encoding='utf-8') as soubor:\n",
    "    obsah = soubor.read()\n",
    "\n",
    "html = HTML(html=obsah)\n",
    "# html.html"
   ]
  },
  {
   "attachments": {},
   "cell_type": "markdown",
   "metadata": {},
   "source": [
    "Vyhledávání v HTML podle jména značky:"
   ]
  },
  {
   "cell_type": "code",
   "execution_count": null,
   "metadata": {},
   "outputs": [],
   "source": [
    "html.find('p')"
   ]
  },
  {
   "attachments": {},
   "cell_type": "markdown",
   "metadata": {},
   "source": [
    "Vyhledávání v HTML podle více značek:"
   ]
  },
  {
   "cell_type": "code",
   "execution_count": null,
   "metadata": {},
   "outputs": [],
   "source": [
    "html.find('h1, h2')"
   ]
  },
  {
   "attachments": {},
   "cell_type": "markdown",
   "metadata": {},
   "source": [
    "Každý objekt typu `Element` má atribut `.text`:"
   ]
  },
  {
   "cell_type": "code",
   "execution_count": null,
   "metadata": {},
   "outputs": [],
   "source": [
    "for odstavec in html.find('p'):\n",
    "    print(odstavec.text)"
   ]
  },
  {
   "attachments": {},
   "cell_type": "markdown",
   "metadata": {},
   "source": [
    "Vyhledávání v HTML podle třídy (atribut `class`):"
   ]
  },
  {
   "cell_type": "code",
   "execution_count": null,
   "metadata": {},
   "outputs": [],
   "source": [
    "html.find('.sekce1')"
   ]
  },
  {
   "attachments": {},
   "cell_type": "markdown",
   "metadata": {},
   "source": [
    "Přístup k atributům - jak najít adresy všech odkazů na naší stránce?"
   ]
  },
  {
   "cell_type": "code",
   "execution_count": null,
   "metadata": {},
   "outputs": [],
   "source": [
    "for odkaz in html.find('a'):\n",
    "    print(odkaz.attrs['href'])"
   ]
  },
  {
   "attachments": {},
   "cell_type": "markdown",
   "metadata": {},
   "source": [
    "Vyhledávání podle hodnoty atributu"
   ]
  },
  {
   "cell_type": "code",
   "execution_count": null,
   "metadata": {},
   "outputs": [],
   "source": [
    "html.find('ol[type=\"a\"]')\n"
   ]
  },
  {
   "cell_type": "code",
   "execution_count": null,
   "metadata": {},
   "outputs": [],
   "source": [
    "html.find('ol[type=\"a\"] li')"
   ]
  },
  {
   "attachments": {},
   "cell_type": "markdown",
   "metadata": {},
   "source": [
    "## Scraping z internetu"
   ]
  },
  {
   "cell_type": "code",
   "execution_count": null,
   "metadata": {},
   "outputs": [],
   "source": [
    "session = HTMLSession()\n",
    "\n",
    "stranka = session.get('https://apps.kodim.cz/python-data/scrape')"
   ]
  },
  {
   "cell_type": "code",
   "execution_count": null,
   "metadata": {},
   "outputs": [],
   "source": [
    "for odstavec in stranka.html.find('p'):\n",
    "    print(odstavec.text)"
   ]
  },
  {
   "attachments": {},
   "cell_type": "markdown",
   "metadata": {},
   "source": [
    "## Webscraping pomocí `pandas.read_html`\n",
    "\n",
    "Nainstalujte si ještě jeden balíček, který se jmenuje `html5lib`:\n",
    "\n",
    "Windows: \n",
    "```\n",
    "pip install html5lib\n",
    "```\n",
    "\n",
    "Mac/Linux:\n",
    "```\n",
    "pip3 install html5lib\n",
    "```"
   ]
  },
  {
   "cell_type": "code",
   "execution_count": null,
   "metadata": {},
   "outputs": [],
   "source": [
    "import pandas"
   ]
  },
  {
   "attachments": {},
   "cell_type": "markdown",
   "metadata": {},
   "source": [
    "Data: \"Děti, žáci, studenti podle státního občanství\" (ČSÚ)"
   ]
  },
  {
   "cell_type": "code",
   "execution_count": null,
   "metadata": {},
   "outputs": [],
   "source": [
    "url = \"https://vdb.czso.cz/vdbvo2/faces/cs/index.jsf?page=vystup-objekt&z=T&f=TABULKA&skupId=1127&katalog=30848&pvo=VZD13b&pvo=VZD13b&u=v4__VUZEMI__97__19\"\n",
    "dfs = pandas.read_html(url)\n",
    "# dfs"
   ]
  },
  {
   "cell_type": "code",
   "execution_count": null,
   "metadata": {},
   "outputs": [],
   "source": [
    "# Tabulka na indexu 6 obsahuje data, která nás zajímají\n",
    "df = dfs[6]"
   ]
  },
  {
   "cell_type": "code",
   "execution_count": null,
   "metadata": {},
   "outputs": [],
   "source": [
    "staty_eu = df.iloc[3, 4:]\n",
    "staty_eu = staty_eu.reset_index(level=0)\n",
    "staty_eu = staty_eu.drop(columns=['level_0'])\n",
    "staty_eu = staty_eu.rename(columns={3: 'pocet'})\n",
    "staty_eu"
   ]
  },
  {
   "cell_type": "code",
   "execution_count": null,
   "metadata": {},
   "outputs": [],
   "source": [
    "ostatni_evropske_staty = df.iloc[4, 4:]\n",
    "ostatni_evropske_staty = ostatni_evropske_staty.reset_index(level=0)\n",
    "ostatni_evropske_staty = ostatni_evropske_staty.drop(columns=['level_0'])\n",
    "ostatni_evropske_staty = ostatni_evropske_staty.rename(columns={4: 'pocet'})\n",
    "ostatni_evropske_staty"
   ]
  },
  {
   "cell_type": "code",
   "execution_count": null,
   "metadata": {},
   "outputs": [],
   "source": [
    "data =  pandas.DataFrame(index=ostatni_evropske_staty.index)\n",
    "data['pocet_ostatni_evropske_staty'] = ostatni_evropske_staty['pocet'].str.split().str.join('').astype(int)\n",
    "data['pocet_EU'] = staty_eu['pocet'].str.split().str.join('').astype(int)\n",
    "data"
   ]
  },
  {
   "cell_type": "code",
   "execution_count": null,
   "metadata": {},
   "outputs": [],
   "source": [
    "data.plot(figsize=(15,5))"
   ]
  }
 ],
 "metadata": {
  "kernelspec": {
   "display_name": "Python 3",
   "language": "python",
   "name": "python3"
  },
  "language_info": {
   "codemirror_mode": {
    "name": "ipython",
    "version": 3
   },
   "file_extension": ".py",
   "mimetype": "text/x-python",
   "name": "python",
   "nbconvert_exporter": "python",
   "pygments_lexer": "ipython3",
   "version": "3.9.7"
  },
  "orig_nbformat": 4
 },
 "nbformat": 4,
 "nbformat_minor": 2
}
