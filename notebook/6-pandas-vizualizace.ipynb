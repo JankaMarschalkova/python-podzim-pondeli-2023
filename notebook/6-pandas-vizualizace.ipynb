{
 "cells": [
  {
   "attachments": {},
   "cell_type": "markdown",
   "metadata": {},
   "source": [
    "# `pandas`: Vizualizace\n",
    "Odkaz na lekci: https://kodim.cz/kurzy/python-data-1/python-pro-data-1/vizualizace/vizualizace"
   ]
  },
  {
   "cell_type": "code",
   "execution_count": null,
   "metadata": {},
   "outputs": [],
   "source": [
    "import pandas"
   ]
  },
  {
   "attachments": {},
   "cell_type": "markdown",
   "metadata": {},
   "source": [
    "### Načtení dat\n",
    "\n",
    "Data, se kterými budeme pracovat, si můžeš stáhnout zde:\n",
    "* [ucet.csv](https://kodim.cz/cms/assets/kurzy/python-data-1/python-pro-data-1/vizualizace/ucet.csv)"
   ]
  },
  {
   "cell_type": "code",
   "execution_count": null,
   "metadata": {},
   "outputs": [],
   "source": [
    "ucet = pandas.read_csv(\"ucet.csv\", names=['datum', 'pohyb'], index_col='datum')"
   ]
  },
  {
   "cell_type": "code",
   "execution_count": null,
   "metadata": {},
   "outputs": [],
   "source": [
    "ucet.plot()"
   ]
  },
  {
   "cell_type": "code",
   "execution_count": null,
   "metadata": {},
   "outputs": [],
   "source": [
    "ucet.cumsum().plot()"
   ]
  },
  {
   "attachments": {},
   "cell_type": "markdown",
   "metadata": {},
   "source": [
    "Nastavení typu grafu, barvy, mřížky:"
   ]
  },
  {
   "cell_type": "code",
   "execution_count": null,
   "metadata": {},
   "outputs": [],
   "source": [
    "ucet.cumsum().plot(kind='bar', color='green', grid=True)"
   ]
  },
  {
   "attachments": {},
   "cell_type": "markdown",
   "metadata": {},
   "source": [
    "Nastavení velikosti grafu v notebooku:"
   ]
  },
  {
   "cell_type": "code",
   "execution_count": null,
   "metadata": {},
   "outputs": [],
   "source": [
    "ucet.cumsum().plot(kind='bar', color='green', grid=True, figsize=(10, 5))"
   ]
  },
  {
   "attachments": {},
   "cell_type": "markdown",
   "metadata": {},
   "source": [
    "## Další typy grafů\n",
    "Vytvoříme si tabulku, která obsahuje měření výšek mužů a žen:"
   ]
  },
  {
   "cell_type": "code",
   "execution_count": null,
   "metadata": {},
   "outputs": [],
   "source": [
    "vysky = pandas.DataFrame(\n",
    "    {\n",
    "        'muzi': [\n",
    "            179.3, 183.7, 181.4, 176.0, 183.6, 184.7, 163.4, 180.3,\n",
    "            167.5, 166.8, 173.5, 172.5, 173.0, 177.6, 176.0, 179.5,\n",
    "            182.6, 172.0, 183.2, 177.0, 176.2, 175.7, 174.3, 180.3,\n",
    "            184.9, 171.1, 182.3, 169.7, 181.3, 188.8, 176.8, 159.0,\n",
    "            180.3, 198.5, 185.8, 191.0, 170.9, 196.0, 183.3, 183.0,\n",
    "            189.9, 184.8, 184.0, 183.1, 184.0, 190.7, 191.7, 187.8,\n",
    "            177.5, 177.5, 189.2, 188.4, 195.0, 204.2, 180.2, 181.3,\n",
    "            178.2, 182.6, 172.1, 175.7, 180.7, 181.2, 165.0, 188.6\n",
    "        ], \n",
    "        'zeny': [\n",
    "            172.0, 169.0, 166.8, 164.6, 172.7, 171.5, 167.0, 167.0,\n",
    "            168.3, 184.7, 166.0, 160.0, 168.8, 165.8, 173.5, 163.0,\n",
    "            168.9, 158.4, 166.4, 169.4, 174.2, 175.6, 167.2, 168.0,\n",
    "            171.5, 168.8, 168.9, 174.1, 169.0, 170.7, 156.3, 174.8,\n",
    "            169.1, 161.4, 172.5, 166.1, 171.5, 163.9, 164.5, 169.0,\n",
    "            168.5, 163.3, 169.5, 167.4, 175.5, 165.0, 166.6, 158.9,\n",
    "            164.5, 168.7, 161.6, 175.8, 179.0, 167.9, 161.1, 167.6,\n",
    "            165.9, 165.2, 176.0, 179.4, 160.1, 163.8, 177.7, 160.4\n",
    "        ]\n",
    "    }\n",
    ")\n",
    "vysky"
   ]
  },
  {
   "attachments": {},
   "cell_type": "markdown",
   "metadata": {},
   "source": [
    "## Histogram"
   ]
  },
  {
   "cell_type": "code",
   "execution_count": null,
   "metadata": {},
   "outputs": [],
   "source": [
    "vysky['muzi'].plot(kind='hist', bins=5, grid=True)"
   ]
  },
  {
   "cell_type": "code",
   "execution_count": null,
   "metadata": {},
   "outputs": [],
   "source": [
    "vysky.plot(kind='hist', bins=5, grid=True, subplots=True)"
   ]
  },
  {
   "cell_type": "code",
   "execution_count": null,
   "metadata": {},
   "outputs": [],
   "source": [
    "vysky.plot(kind='hist', bins=[150, 155, 160, 165, 170, 175, 180, 185, 190, 195, 200, 205, 210], grid=True, subplots=True)"
   ]
  },
  {
   "attachments": {},
   "cell_type": "markdown",
   "metadata": {},
   "source": [
    "## Krabicový graf (boxplot)"
   ]
  },
  {
   "cell_type": "code",
   "execution_count": null,
   "metadata": {},
   "outputs": [],
   "source": [
    "vysky.plot(kind='box', whis=[0, 100])"
   ]
  }
 ],
 "metadata": {
  "kernelspec": {
   "display_name": "Python 3",
   "language": "python",
   "name": "python3"
  },
  "language_info": {
   "codemirror_mode": {
    "name": "ipython",
    "version": 3
   },
   "file_extension": ".py",
   "mimetype": "text/x-python",
   "name": "python",
   "nbconvert_exporter": "python",
   "pygments_lexer": "ipython3",
   "version": "3.9.7"
  },
  "orig_nbformat": 4
 },
 "nbformat": 4,
 "nbformat_minor": 2
}
