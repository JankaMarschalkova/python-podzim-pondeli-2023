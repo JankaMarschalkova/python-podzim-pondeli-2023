{
 "cells": [
  {
   "cell_type": "markdown",
   "metadata": {},
   "source": [
    "# Cvičení ke kapitole Vizualizace"
   ]
  },
  {
   "cell_type": "markdown",
   "metadata": {},
   "source": [
    "## [1] Házení kostkami\n",
    "\n",
    "Mějme dvě hrací kostky, kterými vždy hodíme najednou a zaznamenáme součet bodů. \n",
    "\n",
    "Stáhněte si textový soubor [kostky.csv](https://kodim.cz/czechitas/progr2-python/python-pro-data-1/vizualizace/excs/hazeni-kostkami/assets/kostky.csv), který obsahuje 1.000 takových nezávislých hodů.\n",
    "\n"
   ]
  },
  {
   "cell_type": "code",
   "execution_count": null,
   "metadata": {},
   "outputs": [],
   "source": [
    "import pandas\n",
    "\n",
    "kostky = pandas.read_csv(\n",
    "    \"https://kodim.cz/cms/assets/analyza-dat/python-data-1/python-pro-data-1/vizualizace/excs/hazeni-kostkami/kostky.csv\"\n",
    ")"
   ]
  },
  {
   "cell_type": "markdown",
   "metadata": {},
   "source": [
    "Načtěte tato data do tabulky a zobrazte histogram hodů. \n",
    "\n",
    "Zvolte vhodné rozložení přihrádek a zodpovězte následující dotazy:\n",
    "\n",
    "1. Jaká je nejčastější hodnota, která na dvou kostkách padne?\n",
    "2. Je větší šance, že padne hodnota 12 než že padne hodnota 2?"
   ]
  },
  {
   "cell_type": "code",
   "execution_count": null,
   "metadata": {},
   "outputs": [],
   "source": []
  }
 ],
 "metadata": {
  "interpreter": {
   "hash": "aee8b7b246df8f9039afb4144a1f6fd8d2ca17a180786b69acc140d282b71a49"
  },
  "kernelspec": {
   "display_name": "Python 3.10.1 64-bit",
   "language": "python",
   "name": "python3"
  },
  "language_info": {
   "codemirror_mode": {
    "name": "ipython",
    "version": 3
   },
   "file_extension": ".py",
   "mimetype": "text/x-python",
   "name": "python",
   "nbconvert_exporter": "python",
   "pygments_lexer": "ipython3",
   "version": "3.10.1"
  },
  "orig_nbformat": 4
 },
 "nbformat": 4,
 "nbformat_minor": 2
}
