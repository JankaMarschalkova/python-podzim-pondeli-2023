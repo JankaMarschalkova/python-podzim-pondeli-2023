{
 "cells": [
  {
   "cell_type": "markdown",
   "metadata": {},
   "source": [
    "# Cvičení ke kapitole Vizualizace"
   ]
  },
  {
   "cell_type": "markdown",
   "metadata": {},
   "source": [
    "## [3] Hurá na hory\n",
    "\n",
    "Následující data obsahují úhrnné množství sněhu (v cm) napadlé za každý rok pro posledních 50 let pro dva lyžarské resorty. \n",
    "\n",
    "První sloupec je rok, druhý jsou data pro resort Hora šílenství, třetí jsou data pro resort Prašné údolí."
   ]
  },
  {
   "cell_type": "code",
   "execution_count": null,
   "metadata": {},
   "outputs": [],
   "source": [
    "import pandas\n",
    "\n",
    "snih = [\n",
    "    [1968, 480, 351],\n",
    "    [1969, 462, 663],\n",
    "    [1970, 443, 490],\n",
    "    [1971, 518, 444],\n",
    "    [1972, 537, 420],\n",
    "    [1973, 446, 941],\n",
    "    [1974, 446, 691],\n",
    "    [1975, 450, 477],\n",
    "    [1976, 356, 395],\n",
    "    [1977, 381, 652],\n",
    "    [1978, 345, 525],\n",
    "    [1979, 430, 762],\n",
    "    [1980, 266, 316],\n",
    "    [1981, 533, 781],\n",
    "    [1982, 471, 769],\n",
    "    [1983, 407, 801],\n",
    "    [1984, 526, 633],\n",
    "    [1985, 391, 488],\n",
    "    [1986, 361, 624],\n",
    "    [1987, 470, 471],\n",
    "    [1988, 506, 514],\n",
    "    [1989, 333, 208],\n",
    "    [1990, 462, 909],\n",
    "    [1991, 438, 443],\n",
    "    [1992, 364, 488],\n",
    "    [1993, 452, 579],\n",
    "    [1994, 484, 519],\n",
    "    [1995, 460, 809],\n",
    "    [1996, 465, 682],\n",
    "    [1997, 431, 814],\n",
    "    [1998, 463, 595],\n",
    "    [1999, 460, 512],\n",
    "    [2000, 503, 750],\n",
    "    [2001, 462, 951],\n",
    "    [2002, 429, 413],\n",
    "    [2003, 405, 738],\n",
    "    [2004, 477, 777],\n",
    "    [2005, 385, 316],\n",
    "    [2006, 368, 417],\n",
    "    [2007, 513, 635],\n",
    "    [2008, 448, 689],\n",
    "    [2009, 525, 443],\n",
    "    [2010, 427, 225],\n",
    "    [2011, 460, 618],\n",
    "    [2012, 417, 742],\n",
    "    [2013, 517, 247],\n",
    "    [2014, 466, 552],\n",
    "    [2015, 523, 441],\n",
    "    [2016, 422, 690],\n",
    "    [2017, 420, 699],\n",
    "]\n",
    "snihdf = pandas.DataFrame(snih, columns=[\"rok\", \"hora\", \"udoli\"])\n",
    "snihdf = snihdf.set_index(\"rok\")"
   ]
  },
  {
   "cell_type": "markdown",
   "metadata": {},
   "source": [
    "Použijte krabicový graf k porovnání sněhových srážek v obou resortech. \n",
    "\n",
    "Do kterého byste se vypravili příští rok na lyže a proč?\n",
    "\n"
   ]
  },
  {
   "cell_type": "code",
   "execution_count": null,
   "metadata": {},
   "outputs": [],
   "source": []
  }
 ],
 "metadata": {
  "interpreter": {
   "hash": "aee8b7b246df8f9039afb4144a1f6fd8d2ca17a180786b69acc140d282b71a49"
  },
  "kernelspec": {
   "display_name": "Python 3.10.1 64-bit",
   "language": "python",
   "name": "python3"
  },
  "language_info": {
   "codemirror_mode": {
    "name": "ipython",
    "version": 3
   },
   "file_extension": ".py",
   "mimetype": "text/x-python",
   "name": "python",
   "nbconvert_exporter": "python",
   "pygments_lexer": "ipython3",
   "version": "3.10.1"
  },
  "orig_nbformat": 4
 },
 "nbformat": 4,
 "nbformat_minor": 2
}
