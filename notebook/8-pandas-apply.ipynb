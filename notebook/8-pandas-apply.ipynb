{
 "cells": [
  {
   "attachments": {},
   "cell_type": "markdown",
   "metadata": {},
   "source": [
    "# `pandas.DataFrame.apply`\n",
    "\n",
    "Odkaz na dokumentaci: https://pandas.pydata.org/docs/reference/api/pandas.DataFrame.apply.html"
   ]
  },
  {
   "cell_type": "code",
   "execution_count": null,
   "metadata": {},
   "outputs": [],
   "source": [
    "import pandas\n",
    "import random"
   ]
  },
  {
   "cell_type": "code",
   "execution_count": null,
   "metadata": {},
   "outputs": [],
   "source": [
    "df = pandas.DataFrame({'strings': ['hello', 'ahoj', 'guten tag', 'bonjour'], 'ints': [1,2,3,4], 'floats': [2.4, 13.7, 96.54, 0.32]})\n",
    "df"
   ]
  },
  {
   "attachments": {},
   "cell_type": "markdown",
   "metadata": {},
   "source": [
    "Jednoduché operace můžeme aplikovat přímo na série (např. na sloupce):"
   ]
  },
  {
   "cell_type": "code",
   "execution_count": null,
   "metadata": {},
   "outputs": [],
   "source": [
    "df['ints'] * 2"
   ]
  },
  {
   "cell_type": "code",
   "execution_count": null,
   "metadata": {},
   "outputs": [],
   "source": [
    "df['strings'] + \"!\""
   ]
  },
  {
   "attachments": {},
   "cell_type": "markdown",
   "metadata": {},
   "source": [
    "V některých případech můžeme na sérii zavolat i zabudovanou funkci Pythonu:"
   ]
  },
  {
   "cell_type": "code",
   "execution_count": null,
   "metadata": {},
   "outputs": [],
   "source": [
    "round(df['floats'])"
   ]
  },
  {
   "attachments": {},
   "cell_type": "markdown",
   "metadata": {},
   "source": [
    "Velké množství funkcí a metod nám nabízí přímo Pandas:"
   ]
  },
  {
   "cell_type": "code",
   "execution_count": null,
   "metadata": {},
   "outputs": [],
   "source": [
    "df['ints'].astype(float)"
   ]
  },
  {
   "cell_type": "code",
   "execution_count": null,
   "metadata": {},
   "outputs": [],
   "source": [
    "df['floats'].round()"
   ]
  },
  {
   "cell_type": "code",
   "execution_count": null,
   "metadata": {},
   "outputs": [],
   "source": [
    "df['strings'].str.upper()"
   ]
  },
  {
   "cell_type": "code",
   "execution_count": null,
   "metadata": {},
   "outputs": [],
   "source": [
    "df['strings'].str.len()"
   ]
  },
  {
   "attachments": {},
   "cell_type": "markdown",
   "metadata": {},
   "source": [
    "Co ale složitější funkce? Jak zavolat funkci na každý prvek sloupce?"
   ]
  },
  {
   "cell_type": "code",
   "execution_count": null,
   "metadata": {},
   "outputs": [],
   "source": [
    "body = pandas.DataFrame({'body': [random.randint(0,100) for _ in range(30)]})\n",
    "body.head()"
   ]
  },
  {
   "attachments": {},
   "cell_type": "markdown",
   "metadata": {},
   "source": [
    "Chtěli bychom přidat sloupec `prospel/a`, jehož obsahem bude `Ano`, pokud žák získal z písemky alespoň 40 bodů, nebo `Ne`, pokud nikoliv."
   ]
  },
  {
   "cell_type": "code",
   "execution_count": null,
   "metadata": {},
   "outputs": [],
   "source": [
    "def prospech(body: int) -> str:\n",
    "    ..."
   ]
  },
  {
   "cell_type": "code",
   "execution_count": null,
   "metadata": {},
   "outputs": [],
   "source": [
    "body[\"prospel/a\"] = ...\n",
    "body.head()"
   ]
  },
  {
   "attachments": {},
   "cell_type": "markdown",
   "metadata": {},
   "source": [
    "### Cvičení\n",
    "Dataset `rodna_cisla.csv` obsahuje anonymizované informace o pacientech. Má dva sloupce, jeden je identifikační číslo pacienta a druhý je rodné číslo pacienta."
   ]
  },
  {
   "cell_type": "code",
   "execution_count": null,
   "metadata": {},
   "outputs": [],
   "source": [
    "pacienti = pandas.read_csv('rodna_cisla.csv')\n",
    "pacienti"
   ]
  },
  {
   "attachments": {},
   "cell_type": "markdown",
   "metadata": {},
   "source": [
    "* Napiš funkci, která převede rodné číslo ve formátu `\"'736127/2341'\"` na datum narození ve formátu `\"27.11.1973\"`. Můžeš předpokládat, že nejvyšší rok je 1999 (tj. pokud RČ začíná `21`, jedná se o rok 1921, nikoliv 2021).\n",
    "* Následně funkci zavolej na každý prvek sloupce `RC pacienta` pomocí `apply` a vytvoř tak nový sloupec, `Datum narozeni pacienta`"
   ]
  },
  {
   "cell_type": "code",
   "execution_count": null,
   "metadata": {},
   "outputs": [],
   "source": [
    "def preved_rc_na_datum_narozeni(rodne_cislo: str):\n",
    "    ..."
   ]
  },
  {
   "cell_type": "code",
   "execution_count": null,
   "metadata": {},
   "outputs": [],
   "source": [
    "preved_rc_na_datum_narozeni('736127/2341')  # Otestuj, že tvoje funkce vrací správně pro tento vstup datum 27.11.1973"
   ]
  },
  {
   "cell_type": "code",
   "execution_count": null,
   "metadata": {},
   "outputs": [],
   "source": [
    "pacienti['Datum narozeni pacienta'] = ..."
   ]
  },
  {
   "attachments": {},
   "cell_type": "markdown",
   "metadata": {},
   "source": [
    "### Cvičení\n",
    "Dataset `reviews.tsv` (zdroj: https://www.kaggle.com/datasets/vigneshwarsofficial/reviews) obsahuje jednovětné recenze restaurací, spolu s informací, jestli se náštěvníkovi v restauraci líbilo nebo ne."
   ]
  },
  {
   "cell_type": "code",
   "execution_count": null,
   "metadata": {},
   "outputs": [],
   "source": [
    "reviews = pandas.read_csv(\"reviews.tsv\", sep=\"\\t\")\n",
    "reviews"
   ]
  },
  {
   "attachments": {},
   "cell_type": "markdown",
   "metadata": {},
   "source": [
    "* Napiš funkci, která spočítá počet slov v textu. Slova v textu jsou oddělená mezerami. Nápověda: `split()`\n",
    "* Následně funkci zavolej na každý prvek sloupce `Review` pomocí `apply` a vytvoř tak nový sloupec, `Num words`."
   ]
  },
  {
   "cell_type": "code",
   "execution_count": null,
   "metadata": {},
   "outputs": [],
   "source": [
    "def get_num_words(text: str) -> int:\n",
    "    return ...\n"
   ]
  },
  {
   "cell_type": "code",
   "execution_count": null,
   "metadata": {},
   "outputs": [],
   "source": [
    "get_num_words(\"Wow... Loved this place.\")  # Otestuj, že tvoje funkce vrací správně pro tento vstup počet 4, podobně pro vstupy níže\n",
    "# get_num_words(\"Ahoj\") # 1 slovo\n",
    "# get_num_words(\"\")  # 0 slov\n"
   ]
  },
  {
   "cell_type": "code",
   "execution_count": null,
   "metadata": {},
   "outputs": [],
   "source": [
    "reviews[\"Num words\"] = ...\n",
    "reviews"
   ]
  },
  {
   "attachments": {},
   "cell_type": "markdown",
   "metadata": {},
   "source": [
    "Mají negativní recenze průměrně více nebo méně slov?"
   ]
  },
  {
   "cell_type": "code",
   "execution_count": null,
   "metadata": {},
   "outputs": [],
   "source": [
    "reviews.groupby('Liked')['Num words'].mean()"
   ]
  },
  {
   "cell_type": "code",
   "execution_count": null,
   "metadata": {},
   "outputs": [],
   "source": [
    "reviews.groupby('Liked').boxplot(column='Num words')"
   ]
  }
 ],
 "metadata": {
  "kernelspec": {
   "display_name": "Python 3",
   "language": "python",
   "name": "python3"
  },
  "language_info": {
   "codemirror_mode": {
    "name": "ipython",
    "version": 3
   },
   "file_extension": ".py",
   "mimetype": "text/x-python",
   "name": "python",
   "nbconvert_exporter": "python",
   "pygments_lexer": "ipython3",
   "version": "3.9.7"
  },
  "orig_nbformat": 4
 },
 "nbformat": 4,
 "nbformat_minor": 2
}
