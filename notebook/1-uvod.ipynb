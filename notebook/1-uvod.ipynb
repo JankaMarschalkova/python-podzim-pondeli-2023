{
 "cells": [
  {
   "attachments": {},
   "cell_type": "markdown",
   "metadata": {},
   "source": [
    "# První Jupyter notebook\n",
    "V dnešní lekci si ukážeme jak vytvořit, upravit a spouštět Jupyter notebook."
   ]
  },
  {
   "attachments": {},
   "cell_type": "markdown",
   "metadata": {},
   "source": [
    "Notebook má dva typy buněk:\n",
    "* **Markdown** - slouží k formátované dokumentaci\n",
    "* **Code** - slouží ke spouštění kódu v Pythonu"
   ]
  },
  {
   "cell_type": "code",
   "execution_count": null,
   "metadata": {},
   "outputs": [],
   "source": [
    "print(\"Hello world!\")"
   ]
  },
  {
   "attachments": {},
   "cell_type": "markdown",
   "metadata": {},
   "source": [
    "Nemusíme pokaždé využívat `print` - buňka vždy vypíše vypíše výsledek posledního příkazu:"
   ]
  },
  {
   "cell_type": "code",
   "execution_count": null,
   "metadata": {},
   "outputs": [],
   "source": [
    "a = 185\n",
    "b = 15\n",
    "a + b"
   ]
  },
  {
   "attachments": {},
   "cell_type": "markdown",
   "metadata": {},
   "source": [
    "Do buněk s kódem můžeme psát vše, co jsme psali do programů - příkazy, funkce, třídy, výpočty ... :"
   ]
  },
  {
   "cell_type": "code",
   "execution_count": null,
   "metadata": {},
   "outputs": [],
   "source": [
    "class Pes:\n",
    "    def __init__(self, jmeno: str, vek: int) -> None:\n",
    "        self.jmeno = jmeno\n",
    "        self.vek = vek\n",
    "    \n",
    "    def zastekej(self) -> None:\n",
    "        print(f\"Jmenuji se {self.jmeno}. Haf haf!\")"
   ]
  },
  {
   "attachments": {},
   "cell_type": "markdown",
   "metadata": {},
   "source": [
    "Po spuštění buňky je její výsledek (například nová proměnná, definice funkce, definice třídy ...) dostupný v celém notebooku:"
   ]
  },
  {
   "cell_type": "code",
   "execution_count": null,
   "metadata": {},
   "outputs": [],
   "source": [
    "psi_jmena = [\"Alik\", \"Azor\", \"Aron\"]\n",
    "\n",
    "for jmeno in psi_jmena:\n",
    "    pes = Pes(jmeno, vek=0)\n",
    "    pes.zastekej()"
   ]
  },
  {
   "attachments": {},
   "cell_type": "markdown",
   "metadata": {},
   "source": [
    "Co vypíše následující buňka?"
   ]
  },
  {
   "cell_type": "code",
   "execution_count": null,
   "metadata": {},
   "outputs": [],
   "source": [
    "pes.jmeno"
   ]
  },
  {
   "attachments": {},
   "cell_type": "markdown",
   "metadata": {},
   "source": [
    "Pozor, **na pořadí spuštění buněk záleží**:"
   ]
  },
  {
   "cell_type": "code",
   "execution_count": null,
   "metadata": {},
   "outputs": [],
   "source": [
    "stene = Stene(\"Bella\")\n",
    "stene.zastekej()"
   ]
  },
  {
   "cell_type": "code",
   "execution_count": null,
   "metadata": {},
   "outputs": [],
   "source": [
    "class Stene(Pes):\n",
    "    def __init__(self, jmeno: str) -> None:\n",
    "        super().__init__(jmeno, vek=0)"
   ]
  },
  {
   "attachments": {},
   "cell_type": "markdown",
   "metadata": {},
   "source": [
    "## Cvičení\n",
    "* Ověř, že máš nainstalované rozšíření Jupyter.\n",
    "* Vytvoř si prázdný Jupyter notebook a vyzkoušej, že v něm můžeš spustit nějaký jednoduchý příkaz v Pythonu."
   ]
  }
 ],
 "metadata": {
  "kernelspec": {
   "display_name": "Python 3",
   "language": "python",
   "name": "python3"
  },
  "language_info": {
   "codemirror_mode": {
    "name": "ipython",
    "version": 3
   },
   "file_extension": ".py",
   "mimetype": "text/x-python",
   "name": "python",
   "nbconvert_exporter": "python",
   "pygments_lexer": "ipython3",
   "version": "3.9.7"
  },
  "orig_nbformat": 4
 },
 "nbformat": 4,
 "nbformat_minor": 2
}
