{
 "cells": [
  {
   "attachments": {},
   "cell_type": "markdown",
   "metadata": {},
   "source": [
    "# Cvičení"
   ]
  },
  {
   "cell_type": "code",
   "execution_count": 2,
   "metadata": {},
   "outputs": [],
   "source": [
    "from requests_html import HTMLSession"
   ]
  },
  {
   "attachments": {},
   "cell_type": "markdown",
   "metadata": {},
   "source": [
    "## Scraping DHMO\n",
    "\n",
    "Napište program, který bude pracovat se stránkou o DHMO na adrese https://apps.kodim.cz/python-data/dhmo.\n",
    "\n",
    "- Nechť program vypíše na výstup nadpisy všech sekcí (značka h2).\n",
    "- Nechť program vypíše na výstup cesty všech odkazů na stránce (značka a, atribut href).\n",
    "- Nechť program vypíše na výstup cesty ke všem obrázkům na stránce (značka img, atribut src)."
   ]
  },
  {
   "cell_type": "code",
   "execution_count": 3,
   "metadata": {},
   "outputs": [
    {
     "name": "stdout",
     "output_type": "stream",
     "text": [
      "img/dhmo.jpg\n",
      "img/dhmo-ban.png\n"
     ]
    }
   ],
   "source": [
    "\"\"\"\n",
    "Napište program, který bude pracovat se stránkou o DHMO na adrese https://apps.kodim.cz/python-data/dhmo.\n",
    "\"\"\"\n",
    "session = HTMLSession()\n",
    "stranka = session.get(\"https://apps.kodim.cz/python-data/dhmo\")\n",
    "\n",
    "# Nechť program vypíše na výstup nadpisy všech sekcí (značka h2).\n",
    "# for nadpis in stranka.html.find(\"h2\"):\n",
    "#     print(nadpis.text)\n",
    "\n",
    "# Nechť program vypíše na výstup cesty všech odkazů na stránce (značka a, atribut href).\n",
    "# for odkaz in stranka.html.find(\"a\"):\n",
    "#     print(odkaz.attrs[\"href\"])\n",
    "\n",
    "# # Nechť program vypíše na výstup cesty ke všem obrázkům na stránce (značka img, atribut src).\n",
    "for obrazek in stranka.html.find(\"img\"):\n",
    "    print(obrazek.attrs[\"src\"])\n",
    "\n",
    "# session.close()\n"
   ]
  },
  {
   "attachments": {},
   "cell_type": "markdown",
   "metadata": {},
   "source": [
    "## Scraping Kodim.cz\n",
    "\n",
    "Jistě vás nepřekvapí, že stránky, které právě čtete, se dají také snadno scrapovat.\n",
    "\n",
    "Napište program, který vypíše na výstup všechny sekce a kurzy ze stránky kodim.cz. Výstup může vypadat např. takto:\n",
    "\n",
    "```\n",
    "Základy programování\n",
    "    Úvod do programování\n",
    "    Úvod do programování 2\n",
    "    JavaScript\n",
    "    Úvod do Linuxu\n",
    "Vývoj webových aplikací\n",
    "    Digitální akademie Web\n",
    "    React 2\n",
    "Datová analýza a programování\n",
    "    Python pro data 1\n",
    "    Python pro Power BI\n",
    "    Python pro databáze\n",
    "    Objektově orientované programování v Pythonu\n",
    "    Datová analytika\n",
    "```"
   ]
  },
  {
   "cell_type": "code",
   "execution_count": 9,
   "metadata": {},
   "outputs": [
    {
     "name": "stdout",
     "output_type": "stream",
     "text": [
      "/vyvoj-webu\n",
      "\tDigitální akademie Web\n",
      "\tJavaScript 1\n",
      "\tReact 2\n",
      "/programovani\n",
      "\tÚvod do programování: JavaScript\n",
      "\tÚvod do programování: Python\n",
      "\tÚvod do programování 2\n",
      "\tObjektově orientované programování v Pythonu\n",
      "\tPython pro databáze\n",
      "/analyza-dat\n",
      "\tPython pro data 1\n",
      "\tPython pro Power BI\n",
      "\tDatová analytika\n",
      "/devops\n",
      "\tÚvod do Linuxu\n"
     ]
    }
   ],
   "source": [
    "# Create a session\n",
    "session = HTMLSession()\n",
    "\n",
    "# Load the webpage\n",
    "url = \"https://kodim.cz\"\n",
    "response = session.get(url)\n",
    "\n",
    "# Find elements containing course names\n",
    "# It is assumed that the course names are in elements with a specific class\n",
    "\n",
    "sections = response.html.find(\".styles_menu__SHkwc a\")\n",
    "\n",
    "links = []\n",
    "# Print the names of sections\n",
    "for section in sections:\n",
    "    # Append the href attribute (link) of each section to the links list\n",
    "    links.append(section.attrs[\"href\"])\n",
    "# print(links)\n",
    "\n",
    "# Iterate through each link in the links list\n",
    "for link in links:\n",
    "    print(link)\n",
    "    # Construct the URL for each section\n",
    "    section_url = url + link\n",
    "    # Fetch the webpage of the section\n",
    "    section_page = session.get(section_url)\n",
    "    # Find all h2 elements, assuming these are the course names\n",
    "    for title in section_page.html.find(\".styles_banner__p1HlQ h2\"):\n",
    "        # Print the text of each h2 element, which is the course name\n",
    "        print(f\"\\t{title.text}\")\n",
    "\n",
    "# Close the session\n",
    "session.close()\n"
   ]
  },
  {
   "cell_type": "code",
   "execution_count": null,
   "metadata": {},
   "outputs": [],
   "source": []
  }
 ],
 "metadata": {
  "kernelspec": {
   "display_name": "Python 3",
   "language": "python",
   "name": "python3"
  },
  "language_info": {
   "codemirror_mode": {
    "name": "ipython",
    "version": 3
   },
   "file_extension": ".py",
   "mimetype": "text/x-python",
   "name": "python",
   "nbconvert_exporter": "python",
   "pygments_lexer": "ipython3",
   "version": "3.9.6"
  },
  "orig_nbformat": 4
 },
 "nbformat": 4,
 "nbformat_minor": 2
}
