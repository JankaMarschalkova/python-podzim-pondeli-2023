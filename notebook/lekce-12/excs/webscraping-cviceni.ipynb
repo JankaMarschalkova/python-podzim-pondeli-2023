{
 "cells": [
  {
   "attachments": {},
   "cell_type": "markdown",
   "metadata": {},
   "source": [
    "# Cvičení"
   ]
  },
  {
   "cell_type": "code",
   "execution_count": null,
   "metadata": {},
   "outputs": [],
   "source": [
    "from requests_html import HTMLSession"
   ]
  },
  {
   "attachments": {},
   "cell_type": "markdown",
   "metadata": {},
   "source": [
    "## Scraping DHMO\n",
    "\n",
    "Napište program, který bude pracovat se stránkou o DHMO na adrese https://apps.kodim.cz/python-data/dhmo.\n",
    "\n",
    "- Nechť program vypíše na výstup nadpisy všech sekcí (značka h2).\n",
    "- Nechť program vypíše na výstup cesty všech odkazů na stránce (značka a, atribut href).\n",
    "- Nechť program vypíše na výstup cesty ke všem obrázkům na stránce (značka img, atribut src)."
   ]
  },
  {
   "cell_type": "code",
   "execution_count": null,
   "metadata": {},
   "outputs": [],
   "source": []
  },
  {
   "attachments": {},
   "cell_type": "markdown",
   "metadata": {},
   "source": [
    "## Scraping Kodim.cz\n",
    "\n",
    "Jistě vás nepřekvapí, že stránky, které právě čtete, se dají také snadno scrapovat.\n",
    "\n",
    "Napište program, který vypíše na výstup všechny sekce a kurzy ze stránky kodim.cz. Výstup může vypadat např. takto:\n",
    "\n",
    "```\n",
    "Základy programování\n",
    "    Úvod do programování\n",
    "    Úvod do programování 2\n",
    "    JavaScript\n",
    "    Úvod do Linuxu\n",
    "Vývoj webových aplikací\n",
    "    Digitální akademie Web\n",
    "    React 2\n",
    "Datová analýza a programování\n",
    "    Python pro data 1\n",
    "    Python pro Power BI\n",
    "    Python pro databáze\n",
    "    Objektově orientované programování v Pythonu\n",
    "    Datová analytika\n",
    "```"
   ]
  },
  {
   "cell_type": "code",
   "execution_count": null,
   "metadata": {},
   "outputs": [],
   "source": []
  }
 ],
 "metadata": {
  "kernelspec": {
   "display_name": "Python 3",
   "language": "python",
   "name": "python3"
  },
  "language_info": {
   "codemirror_mode": {
    "name": "ipython",
    "version": 3
   },
   "file_extension": ".py",
   "mimetype": "text/x-python",
   "name": "python",
   "nbconvert_exporter": "python",
   "pygments_lexer": "ipython3",
   "version": "3.9.7"
  },
  "orig_nbformat": 4
 },
 "nbformat": 4,
 "nbformat_minor": 2
}
