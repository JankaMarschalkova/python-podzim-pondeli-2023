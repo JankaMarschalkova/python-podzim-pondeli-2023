{
 "cells": [
  {
   "cell_type": "markdown",
   "metadata": {},
   "source": [
    "# Web scraping"
   ]
  },
  {
   "cell_type": "markdown",
   "metadata": {},
   "source": [
    "Naučíte se jak ve vašich Python programech vytáhnout data z webových stránek."
   ]
  },
  {
   "cell_type": "markdown",
   "metadata": {},
   "source": [
    "## HTML\n",
    "\n",
    "Webové stránky jsou textové soubory psané ve speciálním jazyce zvaném `HTML` (_HyperText Markup Language_). \n",
    "\n",
    "`HTML` není jazyk programovací, nýbrž takzvaně značkovací. \n",
    "\n",
    "Pomocí `HTML` tvůrci webů definují samotný obsah stránek, tedy texty, obrázky, odkazy apod. \n",
    "\n",
    "Samotný vzhled stránky (barvičky, styl písma, rozmístění prvků na stránce apod.) se vytváří v jazyce zvaném `CSS`."
   ]
  },
  {
   "cell_type": "markdown",
   "metadata": {},
   "source": [
    "### HTML značky (tagy)\n",
    "\n",
    "HTML elements reference:  https://developer.mozilla.org/en-US/docs/Web/HTML/Element"
   ]
  },
  {
   "cell_type": "markdown",
   "metadata": {},
   "source": [
    "```html\n",
    "<html>\n",
    "<head>\n",
    "  <meta charset=\"UTF-8\">\n",
    "  <title>Ukázka</title>\n",
    "</head>\n",
    "<body>\n",
    "  <h1>Nadpis první úrovně</h1>\n",
    "  <p>\n",
    "    Text nějakého odstavce, který obsahuje\n",
    "    <em>zvýrazněný text</em> a také <strong>\n",
    "    důležitý text.</strong>\n",
    "  </p>\n",
    "\n",
    "  <h2>Nadpis druhé úrovně</h2>\n",
    "  <div class=\"sekce1\">\n",
    "    <p>\n",
    "      Druhý odstavec je v takzvaném divu, což je\n",
    "      značka, která nemá sama o sobě žádný význam.\n",
    "      Také zde máme\n",
    "      <a href=\"http;://www.czechitas.cz\"> odkaz na\n",
    "      stránky Czechitas</a>.\n",
    "    </p>\n",
    "\n",
    "    <ol type=\"a\">\n",
    "      <li>První položka seznamu</li>\n",
    "      <li>Druhá položka seznamu</li>\n",
    "      <li>Třetí položka seznamu</li>\n",
    "    </ol>\n",
    "  </div>\n",
    "</body>\n",
    "</html>\n",
    "```"
   ]
  },
  {
   "cell_type": "markdown",
   "metadata": {},
   "source": [
    "<html>\n",
    "<head>\n",
    "  <meta charset=\"UTF-8\">\n",
    "  <title>Ukázka</title>\n",
    "</head>\n",
    "<body>\n",
    "  <h1>Nadpis první úrovně</h1>\n",
    "  <p>\n",
    "    Text nějakého odstavce, který obsahuje\n",
    "    <em>zvýrazněný text</em> a také <strong>\n",
    "    důležitý text.</strong>\n",
    "  </p>\n",
    "\n",
    "  <h2>Nadpis druhé úrovně</h2>\n",
    "  <div class=\"sekce1\">\n",
    "    <p>\n",
    "      Druhý odstavec je v takzvaném divu, což je\n",
    "      značka, která nemá sama o sobě žádný význam.\n",
    "      Také zde máme\n",
    "      <a href=\"http;://www.czechitas.cz\"> odkaz na\n",
    "      stránky Czechitas</a>.\n",
    "    </p>\n",
    "\n",
    "   <ol type=a>\n",
    "      <li>První položka seznamu</li>\n",
    "      <li>Druhá položka seznamu</li>\n",
    "      <li>Třetí položka seznamu</li>\n",
    "    </ol>\n",
    "  </div>\n",
    "</body>\n",
    "</html>"
   ]
  },
  {
   "cell_type": "markdown",
   "metadata": {},
   "source": [
    "## Web scraping v Pythonu"
   ]
  },
  {
   "cell_type": "markdown",
   "metadata": {},
   "source": [
    "Potřebujeme nainstalovat modul, který umí číst HTML značky a pomocí těchto značek v HTML souborech vyhledávat. \n",
    "\n",
    "`pip3 install requests-html`\n",
    "\n",
    "`pip install requests-html # pro Windows`"
   ]
  },
  {
   "cell_type": "code",
   "execution_count": null,
   "metadata": {},
   "outputs": [],
   "source": [
    "# !pip3 install requests-html\n",
    "\n",
    "from requests_html import HTML\n",
    "# obsah textového souboru už do proměnné načíst umíme\n",
    "with open('ukazka-html/ukazka.html', encoding='utf-8') as soubor:\n",
    "    obsah = soubor.read()\n",
    "\n",
    "# použijeme náš nový modul, aby si tento obsah přečetl a umožnil v něm vyhledávat\n",
    "html = HTML(html=obsah)"
   ]
  },
  {
   "cell_type": "markdown",
   "metadata": {},
   "source": [
    "HTML značky můžeme vyhledávat podle jména. "
   ]
  },
  {
   "cell_type": "code",
   "execution_count": null,
   "metadata": {},
   "outputs": [],
   "source": [
    "for odstavec in html.find('p'):\n",
    "    print(odstavec.text)"
   ]
  },
  {
   "cell_type": "markdown",
   "metadata": {},
   "source": [
    "Můžeme vyhledávání podle třídy (atribut class). Třídy se vyhledávají tak, že jejich název začneme tečkou.\n",
    "\n"
   ]
  },
  {
   "cell_type": "code",
   "execution_count": null,
   "metadata": {},
   "outputs": [],
   "source": [
    "for i in html.find('.sekce1'):\n",
    "    print(i.text)"
   ]
  },
  {
   "cell_type": "markdown",
   "metadata": {},
   "source": [
    "Můžeme přistupovat k atributům nalezených značek. "
   ]
  },
  {
   "cell_type": "code",
   "execution_count": null,
   "metadata": {},
   "outputs": [],
   "source": [
    "# najít adresy všech odkazů na naší stránce.\n",
    "for odkaz in html.find('a'):\n",
    "    print(odkaz.attrs['href'])"
   ]
  },
  {
   "cell_type": "markdown",
   "metadata": {},
   "source": [
    "### Složitější pravidla vyhledávání"
   ]
  },
  {
   "cell_type": "markdown",
   "metadata": {},
   "source": [
    "Můžeme vyhledávat podle více značek najednou."
   ]
  },
  {
   "cell_type": "code",
   "execution_count": null,
   "metadata": {},
   "outputs": [],
   "source": [
    "for nadpis in html.find('h1, h2'):\n",
    "    print(nadpis.text)"
   ]
  },
  {
   "cell_type": "markdown",
   "metadata": {},
   "source": [
    "Můžeme vyhledávat podle atributů. "
   ]
  },
  {
   "cell_type": "code",
   "execution_count": null,
   "metadata": {},
   "outputs": [],
   "source": [
    "# najít všechny seznamy, kde atribut type je roven a.\n",
    "\n",
    "html.find('ol[type=\"a\"]')"
   ]
  },
  {
   "cell_type": "markdown",
   "metadata": {},
   "source": [
    "Můžeme vyhledávat podle zanoření. \n",
    "\n",
    "Mezera ve vyhledávacím řetězci znamená libovolně hluboké zanoření. "
   ]
  },
  {
   "cell_type": "code",
   "execution_count": null,
   "metadata": {},
   "outputs": [],
   "source": [
    "# najít všechny odstavce, které jsou uvnitř značky s třídou sekce1\n",
    "\n",
    "html.find('.sekce1 p')"
   ]
  },
  {
   "cell_type": "code",
   "execution_count": null,
   "metadata": {},
   "outputs": [],
   "source": [
    "# Pokud bychom chtěli pouze odstavce, které jsou přímým potomkem značky s třídou sekce1, \n",
    "# použijeme symbol zobáčku.\n",
    "\n",
    "html.find('.sekce1 > p')"
   ]
  },
  {
   "cell_type": "code",
   "execution_count": null,
   "metadata": {},
   "outputs": [],
   "source": [
    "# Pokud tyto techniky zkombinujeme, \n",
    "# můžeme například najít všechny položky (<li>) ve všech seznamech (<ol>), \n",
    "# jejichž atribut type je roven a.\n",
    "\n",
    "html.find('ol[type=\"a\"] li')"
   ]
  },
  {
   "cell_type": "markdown",
   "metadata": {},
   "source": [
    "## Scraping přes internet"
   ]
  },
  {
   "cell_type": "markdown",
   "metadata": {},
   "source": [
    "Na adrese https://apps.kodim.cz/python-data/scrape najdete naši malou ukázkovou stránku z úvodu. \n",
    "\n",
    "\n",
    "Na adrese https://apps.kodim.cz/python-data/dhmo najdete také finální verzi stránky šířící poplach ohledně DHMO."
   ]
  },
  {
   "cell_type": "code",
   "execution_count": null,
   "metadata": {},
   "outputs": [],
   "source": [
    "from requests_html import HTMLSession\n",
    "\n",
    "session = HTMLSession()\n",
    "stranka = session.get('https://apps.kodim.cz/python-data/scrape')\n",
    "for odstavec in stranka.html.find('p'):\n",
    "    print(odstavec.text)\n",
    "\n",
    "#session.close()"
   ]
  },
  {
   "cell_type": "markdown",
   "metadata": {},
   "source": [
    "Pokud chcete vidět celý stažený zdrojový kód stránky jako text, napište:"
   ]
  },
  {
   "cell_type": "code",
   "execution_count": null,
   "metadata": {},
   "outputs": [],
   "source": [
    "print(stranka.html.html)"
   ]
  },
  {
   "cell_type": "markdown",
   "metadata": {},
   "source": [
    "## Web scraping vs JavaScript"
   ]
  },
  {
   "cell_type": "markdown",
   "metadata": {},
   "source": [
    "Velkým trendem v dnešní době je nepsat HTML kód stránky přímo, jako jsme to viděli výše. \n",
    "\n",
    "Místo toho se použije jazyk JavaScript, který kód stránky sám vygeneruje. \n",
    "\n",
    "Tím může být stránka mnohem flexibilnější a interaktivnější, což je hezké pro uživatele. \n",
    "\n",
    "Pro nás to však znamená, že když stránku stahujeme v Pythonu, neobdržíme značky HTML, ale JavaScriptový program. \n",
    "\n",
    "Ten nejdříve musíme v Pythonu spustit a nechat si výsledné HTML vygenerovat.\n",
    "\n",
    "Podívejte se například na tuto stránku, která je psána přesně tímto způsobem. \n",
    "\n",
    "https://react-shopping-cart-67954.firebaseapp.com/\n",
    "\n",
    "Pokud chceme takovou stránku scrapovat, musíme použít takovýto kód.\n",
    "\n"
   ]
  },
  {
   "cell_type": "code",
   "execution_count": null,
   "metadata": {},
   "outputs": [],
   "source": [
    "from requests_html import HTMLSession\n",
    "\n",
    "session = HTMLSession()\n",
    "stranka = session.get('https://react-shopping-cart-67954.firebaseapp.com/')\n",
    "stranka.html.render(sleep=5)\n",
    "\n",
    "# print(stranka.html.html)\n",
    "\n",
    "# session.close()"
   ]
  },
  {
   "cell_type": "markdown",
   "metadata": {},
   "source": [
    "Notes:\n",
    "\n",
    "- https://pypi.org/project/beautifulsoup4/\n",
    "- https://pypi.org/project/requests/"
   ]
  }
 ],
 "metadata": {
  "kernelspec": {
   "display_name": "Python 3.10.1 64-bit",
   "language": "python",
   "name": "python3"
  },
  "language_info": {
   "codemirror_mode": {
    "name": "ipython",
    "version": 3
   },
   "file_extension": ".py",
   "mimetype": "text/x-python",
   "name": "python",
   "nbconvert_exporter": "python",
   "pygments_lexer": "ipython3",
   "version": "3.9.6"
  },
  "orig_nbformat": 4,
  "vscode": {
   "interpreter": {
    "hash": "aee8b7b246df8f9039afb4144a1f6fd8d2ca17a180786b69acc140d282b71a49"
   }
  }
 },
 "nbformat": 4,
 "nbformat_minor": 2
}
