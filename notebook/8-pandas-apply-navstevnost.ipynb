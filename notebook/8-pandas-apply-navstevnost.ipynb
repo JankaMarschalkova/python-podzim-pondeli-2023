{
 "cells": [
  {
   "attachments": {},
   "cell_type": "markdown",
   "metadata": {},
   "source": [
    "# Návštěvnost turistických cílů v Olomouckém kraji"
   ]
  },
  {
   "cell_type": "code",
   "execution_count": null,
   "metadata": {},
   "outputs": [],
   "source": [
    "import pandas"
   ]
  },
  {
   "attachments": {},
   "cell_type": "markdown",
   "metadata": {},
   "source": [
    "Načteme si data, která udávají návštěvnost různých turistických cílů v Olomouckém kraji. Zde je  odkaz na zdroj dat: https://data.gov.cz/datov%C3%A1-sada?iri=https%3A%2F%2Fdata.gov.cz%2Fzdroj%2Fdatov%C3%A9-sady%2F60609460%2F671456014 (tlačítko Stáhnout). \n",
    "\n",
    "Všimni si, že data jsou oddělená středníky, a také jsou uložená v jiném kódování, než jsme zvyklí, proto musíme toto kódování specifikovat, aby byla čeština čitelná s veškerou diakritikou:"
   ]
  },
  {
   "cell_type": "code",
   "execution_count": null,
   "metadata": {},
   "outputs": [],
   "source": [
    "df = pandas.read_csv(\"navstevnost-tur-cilu.csv\", sep=\";\", encoding=\"cp1250\")\n",
    "df"
   ]
  },
  {
   "attachments": {},
   "cell_type": "markdown",
   "metadata": {},
   "source": [
    "Podle prvního sloupce to vypadá, že se jedná o víc tabulek spojených dohromady. Typ objektu je udaný vždy jen v první řádce, a pak následují prázdné hodnoty až do sekce s dalším objektem. Nám by se hodilo si data doplnit, abychom mohli jednoduše filtrovat podle typu objektu."
   ]
  },
  {
   "attachments": {},
   "cell_type": "markdown",
   "metadata": {},
   "source": [
    "### Cvičení\n",
    "\n",
    "* V první řadě přejmenuj první sloupec na něco vypovídajícího, třeba `\"Typ objektu\"`.\n",
    "* Dále vyplň chybějící hodnoty: Aplikuj metodu `fillna` na sloupec `\"Typ objektu\"` v kombinaci s parametrem `method=\"ffill\"`. Podívej se na dokumentaci metody `fillna` pro příklad použití: https://pandas.pydata.org/docs/reference/api/pandas.DataFrame.fillna.html"
   ]
  },
  {
   "cell_type": "code",
   "execution_count": null,
   "metadata": {},
   "outputs": [],
   "source": [
    "df = ...\n",
    "df.columns"
   ]
  },
  {
   "cell_type": "code",
   "execution_count": null,
   "metadata": {},
   "outputs": [],
   "source": [
    "df[\"Typ objektu\"] = ...\n",
    "df"
   ]
  },
  {
   "attachments": {},
   "cell_type": "markdown",
   "metadata": {},
   "source": [
    "Teď můžeme jednoduše pomocí dotazu vyfiltrovat všechny objekty jednoho typu. Můžeš si vybrat jaký chceš, třeba zámky:"
   ]
  },
  {
   "cell_type": "code",
   "execution_count": null,
   "metadata": {},
   "outputs": [],
   "source": [
    "zamky = ...\n",
    "zamky"
   ]
  },
  {
   "cell_type": "code",
   "execution_count": null,
   "metadata": {},
   "outputs": [],
   "source": [
    "zamky.info()"
   ]
  },
  {
   "attachments": {},
   "cell_type": "markdown",
   "metadata": {},
   "source": [
    "Trochu matoucí může být, že návštěvnost je udaná jako typ řetězce, místo číselného typu. Představ si to jako kdybychom měli hodnotu načtenou od uživatele `\"28 407\"`. Jednalo by se o řetězec, který bychom chtěli převést na číselný typ.\n",
    "\n",
    "### Cvičení\n",
    "\n",
    "* Napiš funkci `convert_object_series_to_float`, která vezme jeden parametr, tím bude série (v našem případě sloupec). Provede následující operace a upravený řádek vrátí:\n",
    "  * `str.split().str.join('')` - takto se zbavíme různých mezer\n",
    "  * `astype(float)` - takto převedeme řetězce v sérii na čísla. Schválně používáme typ `float`, který nám umožní zachovat chybějící hodnoty `NaN`. "
   ]
  },
  {
   "cell_type": "code",
   "execution_count": null,
   "metadata": {},
   "outputs": [],
   "source": [
    "def convert_object_series_to_float(series: pandas.Series) -> pandas.Series:\n",
    "    series = ...\n",
    "    series = ...\n",
    "    return series"
   ]
  },
  {
   "attachments": {},
   "cell_type": "markdown",
   "metadata": {},
   "source": [
    "Vyzkoušej svojí funkci - vytvoříme si testovací sérii, která obsahuje řetězce (typ je tedy `object`):"
   ]
  },
  {
   "cell_type": "code",
   "execution_count": null,
   "metadata": {},
   "outputs": [],
   "source": [
    "test_series = pandas.Series([\"1 000\", \"12 345\", \"1.0\"])\n",
    "test_series"
   ]
  },
  {
   "attachments": {},
   "cell_type": "markdown",
   "metadata": {},
   "source": [
    "Po zavolání by nám funkce měla vrátit sérii se stejnou délkou a stejným obsahem, akorát tentokrát se jedná o číselné hodnoty - typ `float64`:"
   ]
  },
  {
   "cell_type": "code",
   "execution_count": null,
   "metadata": {},
   "outputs": [],
   "source": [
    "convert_object_series_to_float(test_series)"
   ]
  },
  {
   "attachments": {},
   "cell_type": "markdown",
   "metadata": {},
   "source": [
    "Pojďme využít funkci na návštěvnost zámků.\n",
    "\n",
    "### Cvičení\n",
    "\n",
    "* Zbav se sloupce `Typ objektu`. Pro naší tabulku zámků je nevypovídající.\n",
    "* Nastav sloupec `Objekt` jako index. Tím zajistíme, že obsah tabulky jsou jen data o návštěvnosti."
   ]
  },
  {
   "cell_type": "code",
   "execution_count": null,
   "metadata": {},
   "outputs": [],
   "source": [
    "zamky = ...\n",
    "zamky.head()"
   ]
  },
  {
   "cell_type": "code",
   "execution_count": null,
   "metadata": {},
   "outputs": [],
   "source": [
    "zamky = ...\n",
    "zamky.head()"
   ]
  },
  {
   "attachments": {},
   "cell_type": "markdown",
   "metadata": {},
   "source": [
    "Teď můžeme bezpečně aplikovat naší funkci `convert_object_series_to_float` na všechny sloupce:"
   ]
  },
  {
   "cell_type": "code",
   "execution_count": null,
   "metadata": {},
   "outputs": [],
   "source": [
    "zamky = ...\n",
    "zamky.info()"
   ]
  },
  {
   "cell_type": "code",
   "execution_count": null,
   "metadata": {},
   "outputs": [],
   "source": [
    "zamky.head()"
   ]
  },
  {
   "attachments": {},
   "cell_type": "markdown",
   "metadata": {},
   "source": [
    "### Cvičení\n",
    "\n",
    "* Spočítej pro každý zámek průměrnou návštěvnost (ze všech dat, která jsou k dispozici).\n",
    "* Který zámek má nejvyšší a který má nejnižší průměrnou návštěvnost na základě dostupných dat?"
   ]
  },
  {
   "cell_type": "code",
   "execution_count": null,
   "metadata": {},
   "outputs": [],
   "source": [
    "..."
   ]
  },
  {
   "attachments": {},
   "cell_type": "markdown",
   "metadata": {},
   "source": [
    "Trochu si upravíme data, aby indexem byl rok, a sloupce aby byly názvy objektů. Pomůže nám to pro přehlednost při vykreslování grafu."
   ]
  },
  {
   "cell_type": "code",
   "execution_count": null,
   "metadata": {},
   "outputs": [],
   "source": [
    "zamky = zamky.transpose()\n",
    "zamky.index = zamky.index.rename(\"Rok\")"
   ]
  },
  {
   "cell_type": "code",
   "execution_count": null,
   "metadata": {},
   "outputs": [],
   "source": [
    "zamky = zamky.sort_index()\n",
    "zamky"
   ]
  },
  {
   "attachments": {},
   "cell_type": "markdown",
   "metadata": {},
   "source": [
    "### Cvičení\n",
    "\n",
    "* Vykresli graf (např. čarový nebo sloupcový) návštěvnosti jednotlivých zámků v čase."
   ]
  },
  {
   "cell_type": "code",
   "execution_count": null,
   "metadata": {},
   "outputs": [],
   "source": [
    "..."
   ]
  },
  {
   "attachments": {},
   "cell_type": "markdown",
   "metadata": {},
   "source": [
    "### Cvičení\n",
    "\n",
    "* Do nového sloupce `Průměr` spočítej průměrnou návštěvnost zámků za každý rok.\n",
    "* Vykresli znovu graf i s tímto sloupcem."
   ]
  },
  {
   "cell_type": "code",
   "execution_count": null,
   "metadata": {},
   "outputs": [],
   "source": [
    "zamky[\"Průměr\"] = ..."
   ]
  },
  {
   "cell_type": "code",
   "execution_count": null,
   "metadata": {},
   "outputs": [],
   "source": [
    "..."
   ]
  }
 ],
 "metadata": {
  "kernelspec": {
   "display_name": "Python 3",
   "language": "python",
   "name": "python3"
  },
  "language_info": {
   "codemirror_mode": {
    "name": "ipython",
    "version": 3
   },
   "file_extension": ".py",
   "mimetype": "text/x-python",
   "name": "python",
   "nbconvert_exporter": "python",
   "pygments_lexer": "ipython3",
   "version": "3.9.7"
  },
  "orig_nbformat": 4
 },
 "nbformat": 4,
 "nbformat_minor": 2
}
