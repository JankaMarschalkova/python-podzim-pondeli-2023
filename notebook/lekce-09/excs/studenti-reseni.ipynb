{
 "cells": [
  {
   "cell_type": "markdown",
   "metadata": {},
   "source": [
    "# Cvičení k lekci Agregace a spojování v Pandas"
   ]
  },
  {
   "cell_type": "markdown",
   "metadata": {},
   "source": [
    "## Studenti\n",
    "\n",
    "Stáhněte si datové sety, se kterými budeme pracovat v tomto cvičení: [jmena.csv](https://kodim.cz/czechitas/progr2-python/python-pro-data-1/agregace-a-spojovani/excs/studenti/assets/jmena.csv), [studenti1.csv](https://kodim.cz/czechitas/progr2-python/python-pro-data-1/agregace-a-spojovani/excs/studenti/assets/studenti1.csv), [studenti2.csv](https://kodim.cz/czechitas/progr2-python/python-pro-data-1/agregace-a-spojovani/excs/studenti/assets/studenti2.csv). \n",
    "\n",
    "První set už známe z minulé lekce. Druhé dva sety obsahují seznam studentů na nějaké menší IT fakultě. \n",
    "\n",
    "Proveďte následující úkoly a zodpovězte předložené otázky."
   ]
  },
  {
   "cell_type": "code",
   "execution_count": 1,
   "metadata": {},
   "outputs": [],
   "source": [
    "import pandas\n",
    "\n",
    "jmena = pandas.read_csv(\n",
    "    \"https://kodim.cz/cms/assets/analyza-dat/python-data-1/python-pro-data-1/agregace-a-spojovani/excs/studenti/jmena.csv\"\n",
    ")\n",
    "s1 = pandas.read_csv(\n",
    "    \"https://kodim.cz/cms/assets/analyza-dat/python-data-1/python-pro-data-1/agregace-a-spojovani/excs/studenti/studenti1.csv\"\n",
    ")\n",
    "s2 = pandas.read_csv(\n",
    "    \"https://kodim.cz/cms/assets/analyza-dat/python-data-1/python-pro-data-1/agregace-a-spojovani/excs/studenti/studenti2.csv\"\n",
    ")"
   ]
  },
  {
   "cell_type": "markdown",
   "metadata": {},
   "source": [
    "Načti dva datové sety studentů do oddělených pandas DataFrame a pomocí funkce concat je spoj do jednoho setu."
   ]
  },
  {
   "cell_type": "code",
   "execution_count": 2,
   "metadata": {},
   "outputs": [
    {
     "data": {
      "text/html": [
       "<div>\n",
       "<style scoped>\n",
       "    .dataframe tbody tr th:only-of-type {\n",
       "        vertical-align: middle;\n",
       "    }\n",
       "\n",
       "    .dataframe tbody tr th {\n",
       "        vertical-align: top;\n",
       "    }\n",
       "\n",
       "    .dataframe thead th {\n",
       "        text-align: right;\n",
       "    }\n",
       "</style>\n",
       "<table border=\"1\" class=\"dataframe\">\n",
       "  <thead>\n",
       "    <tr style=\"text-align: right;\">\n",
       "      <th></th>\n",
       "      <th>jméno</th>\n",
       "      <th>příjmení</th>\n",
       "      <th>obor</th>\n",
       "      <th>ročník</th>\n",
       "      <th>kruh</th>\n",
       "      <th>prospěch</th>\n",
       "    </tr>\n",
       "  </thead>\n",
       "  <tbody>\n",
       "    <tr>\n",
       "      <th>0</th>\n",
       "      <td>Ludmila</td>\n",
       "      <td>Šindlerová</td>\n",
       "      <td>informatika a management</td>\n",
       "      <td>4.0</td>\n",
       "      <td>11.0</td>\n",
       "      <td>2.49</td>\n",
       "    </tr>\n",
       "    <tr>\n",
       "      <th>1</th>\n",
       "      <td>Jan</td>\n",
       "      <td>Pekárek</td>\n",
       "      <td>softwarové inženýrství</td>\n",
       "      <td>1.0</td>\n",
       "      <td>7.0</td>\n",
       "      <td>1.05</td>\n",
       "    </tr>\n",
       "    <tr>\n",
       "      <th>2</th>\n",
       "      <td>Milan</td>\n",
       "      <td>Weiss</td>\n",
       "      <td>počítačová grafika</td>\n",
       "      <td>5.0</td>\n",
       "      <td>11.0</td>\n",
       "      <td>2.62</td>\n",
       "    </tr>\n",
       "    <tr>\n",
       "      <th>3</th>\n",
       "      <td>Jiřina</td>\n",
       "      <td>Petrová</td>\n",
       "      <td>správa IT systémů</td>\n",
       "      <td>4.0</td>\n",
       "      <td>1.0</td>\n",
       "      <td>1.15</td>\n",
       "    </tr>\n",
       "    <tr>\n",
       "      <th>4</th>\n",
       "      <td>Josef</td>\n",
       "      <td>Navrátil</td>\n",
       "      <td>číslicová technika</td>\n",
       "      <td>5.0</td>\n",
       "      <td>7.0</td>\n",
       "      <td>2.42</td>\n",
       "    </tr>\n",
       "    <tr>\n",
       "      <th>...</th>\n",
       "      <td>...</td>\n",
       "      <td>...</td>\n",
       "      <td>...</td>\n",
       "      <td>...</td>\n",
       "      <td>...</td>\n",
       "      <td>...</td>\n",
       "    </tr>\n",
       "    <tr>\n",
       "      <th>340</th>\n",
       "      <td>Daniel</td>\n",
       "      <td>Brandstätter</td>\n",
       "      <td>informatika a management</td>\n",
       "      <td>4.0</td>\n",
       "      <td>2.0</td>\n",
       "      <td>2.05</td>\n",
       "    </tr>\n",
       "    <tr>\n",
       "      <th>341</th>\n",
       "      <td>Lukáš</td>\n",
       "      <td>Čech</td>\n",
       "      <td>informatika a management</td>\n",
       "      <td>5.0</td>\n",
       "      <td>NaN</td>\n",
       "      <td>1.59</td>\n",
       "    </tr>\n",
       "    <tr>\n",
       "      <th>342</th>\n",
       "      <td>Dagmar</td>\n",
       "      <td>Košanová</td>\n",
       "      <td>teoretická informatika</td>\n",
       "      <td>5.0</td>\n",
       "      <td>10.0</td>\n",
       "      <td>1.34</td>\n",
       "    </tr>\n",
       "    <tr>\n",
       "      <th>343</th>\n",
       "      <td>Ivana</td>\n",
       "      <td>Macháčková</td>\n",
       "      <td>webové inženýrství</td>\n",
       "      <td>1.0</td>\n",
       "      <td>NaN</td>\n",
       "      <td>2.92</td>\n",
       "    </tr>\n",
       "    <tr>\n",
       "      <th>344</th>\n",
       "      <td>Martina</td>\n",
       "      <td>Turková</td>\n",
       "      <td>softwarové inženýrství</td>\n",
       "      <td>5.0</td>\n",
       "      <td>8.0</td>\n",
       "      <td>1.54</td>\n",
       "    </tr>\n",
       "  </tbody>\n",
       "</table>\n",
       "<p>345 rows × 6 columns</p>\n",
       "</div>"
      ],
      "text/plain": [
       "       jméno      příjmení                      obor  ročník  kruh  prospěch\n",
       "0    Ludmila    Šindlerová  informatika a management     4.0  11.0      2.49\n",
       "1        Jan       Pekárek    softwarové inženýrství     1.0   7.0      1.05\n",
       "2      Milan         Weiss        počítačová grafika     5.0  11.0      2.62\n",
       "3     Jiřina       Petrová         správa IT systémů     4.0   1.0      1.15\n",
       "4      Josef      Navrátil        číslicová technika     5.0   7.0      2.42\n",
       "..       ...           ...                       ...     ...   ...       ...\n",
       "340   Daniel  Brandstätter  informatika a management     4.0   2.0      2.05\n",
       "341    Lukáš          Čech  informatika a management     5.0   NaN      1.59\n",
       "342   Dagmar      Košanová    teoretická informatika     5.0  10.0      1.34\n",
       "343    Ivana    Macháčková        webové inženýrství     1.0   NaN      2.92\n",
       "344  Martina       Turková    softwarové inženýrství     5.0   8.0      1.54\n",
       "\n",
       "[345 rows x 6 columns]"
      ]
     },
     "execution_count": 2,
     "metadata": {},
     "output_type": "execute_result"
    }
   ],
   "source": [
    "studenti = pandas.concat([s1, s2], ignore_index=True)\n",
    "studenti"
   ]
  },
  {
   "cell_type": "code",
   "execution_count": null,
   "metadata": {},
   "outputs": [],
   "source": [
    "## Muzes si sloupce prejmenovat a zbavit se diakritiky, ale tohle reseni pracuje s puvodnim pojmenovanim\n",
    "# studenti.columns = [\"jmeno\", \"prijmeni\", \"obor\", \"rocnik\", \"kruh\", \"prospech\"]"
   ]
  },
  {
   "cell_type": "markdown",
   "metadata": {},
   "source": [
    "Pokud studentovi chybí ročník, znamená to, že již nestuduje. \n",
    "\n",
    "Pokud mu chybí číslo skupiny, znamená to, že jde o dálkového studenta. \n",
    "\n",
    "Kolik studentů v datovém setu již nestuduje a kolik jsou dálkoví studenti?"
   ]
  },
  {
   "cell_type": "code",
   "execution_count": null,
   "metadata": {},
   "outputs": [],
   "source": [
    "nestudujici = studenti[\"ročník\"].isna().sum()\n",
    "dalkovy_studenti= studenti[\"kruh\"].isna().sum()\n",
    "\n",
    "## Alternativa\n",
    "# nestudujici = studenti[studenti[\"ročník\"].isnull()].shape[0]\n",
    "# dalkovy_studenti = studenti[studenti[\"kruh\"].isnull()].shape[0]\n",
    "\n",
    "# Pokud studentovi chybí ročník, znamená to, že již nestuduje. \n",
    "print(f\"Počet studentů, kteří nestudují: {nestudujici}\")\n",
    "\n",
    "# Pokud mu chybí číslo skupiny, znamená to, že jde o dálkového studenta. \n",
    "print(f\"Počet dálkových studentů: {dalkovy_studenti}\")"
   ]
  },
  {
   "cell_type": "code",
   "execution_count": null,
   "metadata": {},
   "outputs": [],
   "source": [
    "## Hledáme VŠECHNY chybějící hodnoty\n",
    "studenti.isnull().sum()"
   ]
  },
  {
   "cell_type": "markdown",
   "metadata": {},
   "source": [
    "Vyčisti data od studentů, kteří nestudují nebo studují jen dálkově. Nadále budeme pracovat pouze s prezenčními studenty."
   ]
  },
  {
   "cell_type": "code",
   "execution_count": null,
   "metadata": {},
   "outputs": [],
   "source": [
    "print(f\"Počet všech studentů: {studenti.shape[0]}\")\n",
    "studenti_prezencni = studenti.dropna()\n",
    "# studenti_prezencni = studenti[~studenti[\"kruh\"].isna() & ~studenti[\"ročník\"].isna()]\n",
    "\n",
    "print(f\"Počet prezenčních studentů: {studenti_prezencni.shape[0]}\")\n",
    "\n",
    "## Alternativa\n",
    "# studenti_prezencni = studenti[~studenti[\"kruh\"].isna() & ~studenti[\"ročník\"].isna()]\n",
    "\n",
    "## Odstranění NaN jen z jednoho sloupce\n",
    "# studenti = studenti.dropna(subset=['kruh'])\n",
    "# studenti = studenti[studenti['kruh'].notna()]\n",
    "\n",
    "## POZOR: dva studenti mají ZÁROVEŇ dálkové studium a již nestudují.\n",
    "# kombinace_nan = studenti[studenti[['kruh', 'ročník']].isna().all(1)]"
   ]
  },
  {
   "cell_type": "markdown",
   "metadata": {},
   "source": [
    "Zjisti, kolik prezenčních studentů je v každém z oborů."
   ]
  },
  {
   "cell_type": "code",
   "execution_count": null,
   "metadata": {},
   "outputs": [],
   "source": [
    "studenti_prezencni.groupby(\"obor\")[\"obor\"].count()\n",
    "\n",
    "## Alternativa:\n",
    "# studenti_prezencni.groupby(\"obor\").size()\n",
    "# studenti_prezencni.groupby(\"obor\")[[\"jméno\",\"příjmení\"]].size()\n"
   ]
  },
  {
   "cell_type": "markdown",
   "metadata": {},
   "source": [
    "Zjisti průměrný prospěch studentů v každém oboru."
   ]
  },
  {
   "cell_type": "code",
   "execution_count": null,
   "metadata": {},
   "outputs": [],
   "source": [
    "studenti.groupby(\"obor\")[\"prospěch\"].mean()"
   ]
  },
  {
   "cell_type": "markdown",
   "metadata": {},
   "source": [
    "Načti datový set s křestními jmény. \n",
    "\n",
    "Proveď join s tabulkou studentů tak, abychom věděli pohlaví jednotlivých studentů."
   ]
  },
  {
   "cell_type": "code",
   "execution_count": null,
   "metadata": {},
   "outputs": [],
   "source": [
    "studenti_se_jmeny = pandas.merge(studenti, jmena)\n",
    "\n",
    "## Nebo jen vybrané sloupce (ostatní nepotřebuji)\n",
    "## POZOR: musíme vždy vybírat všechny sloupce potrebné pro propojení\n",
    "# studenti_se_jmeny = pandas.merge(studenti[[\"jméno\", \"příjmení\"]], jmena[[\"jméno\", \"pohlaví\"]])"
   ]
  },
  {
   "cell_type": "markdown",
   "metadata": {},
   "source": [
    "Zjisti, zda na naší fakultě studují IT spíše ženy nebo spíše muži."
   ]
  },
  {
   "cell_type": "code",
   "execution_count": null,
   "metadata": {},
   "outputs": [],
   "source": [
    "studenti_se_jmeny.groupby(\"pohlaví\")[\"pohlaví\"].count()\n",
    "\n",
    "## Alternativa:\n",
    "# studenti_se_jmeny.groupby(\"pohlaví\").size()\n",
    "# studenti_se_jmeny[\"pohlaví\"].value_counts()"
   ]
  }
 ],
 "metadata": {
  "interpreter": {
   "hash": "aee8b7b246df8f9039afb4144a1f6fd8d2ca17a180786b69acc140d282b71a49"
  },
  "kernelspec": {
   "display_name": "Python 3.10.1 64-bit",
   "language": "python",
   "name": "python3"
  },
  "language_info": {
   "codemirror_mode": {
    "name": "ipython",
    "version": 3
   },
   "file_extension": ".py",
   "mimetype": "text/x-python",
   "name": "python",
   "nbconvert_exporter": "python",
   "pygments_lexer": "ipython3",
   "version": "3.9.6"
  },
  "orig_nbformat": 4
 },
 "nbformat": 4,
 "nbformat_minor": 2
}
