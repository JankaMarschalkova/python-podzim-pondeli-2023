{
 "cells": [
  {
   "attachments": {},
   "cell_type": "markdown",
   "metadata": {},
   "source": [
    "# Cvičení"
   ]
  },
  {
   "cell_type": "code",
   "execution_count": 1,
   "metadata": {},
   "outputs": [],
   "source": [
    "from requests_html import HTMLSession"
   ]
  },
  {
   "attachments": {},
   "cell_type": "markdown",
   "metadata": {},
   "source": [
    "## [Scraping DHMO](https://kodim.cz/kurzy/python-data-1/ziskavani-dat/webscraping/webscraping#excs%3Escraping-dhmo)"
   ]
  },
  {
   "cell_type": "code",
   "execution_count": 2,
   "metadata": {},
   "outputs": [],
   "source": [
    "url = \"https://apps.kodim.cz/python-data/dhmo\"\n",
    "session = HTMLSession()\n",
    "stranka = session.get(url)"
   ]
  },
  {
   "cell_type": "code",
   "execution_count": 3,
   "metadata": {},
   "outputs": [
    {
     "name": "stdout",
     "output_type": "stream",
     "text": [
      "Strašák DHMO\n",
      "Další fakta\n",
      "Petice proti DHMO\n",
      "Odkazy\n"
     ]
    }
   ],
   "source": [
    "# Nechť program vypíše na výstup nadpisy všech sekcí (značka h2).\n",
    "for nadpis in stranka.html.find('h2'):\n",
    "    print(nadpis.text)"
   ]
  },
  {
   "cell_type": "code",
   "execution_count": 4,
   "metadata": {},
   "outputs": [
    {
     "name": "stdout",
     "output_type": "stream",
     "text": [
      "http://www.dhmo.org/\n",
      "http://www.matthew.at/dhm.pdf\n",
      "http://www.snopes.com/science/dhmo.asp\n"
     ]
    }
   ],
   "source": [
    "# Nechť program vypíše na výstup cesty všech odkazů na stránce (značka a, atribut href).\n",
    "for odkaz in stranka.html.find('a'):\n",
    "    print(odkaz.attrs['href'])\n"
   ]
  },
  {
   "cell_type": "code",
   "execution_count": 5,
   "metadata": {},
   "outputs": [
    {
     "name": "stdout",
     "output_type": "stream",
     "text": [
      "img/dhmo.jpg\n",
      "img/dhmo-ban.png\n"
     ]
    }
   ],
   "source": [
    "# Nechť program vypíše na výstup cesty ke všem obrázkům na stránce (značka img, atribut src).\n",
    "for img in stranka.html.find('img'):\n",
    "    print(img.attrs['src'])"
   ]
  },
  {
   "attachments": {},
   "cell_type": "markdown",
   "metadata": {},
   "source": [
    "## [Scraping Kodim.cz](https://kodim.cz/kurzy/python-data-1/ziskavani-dat/webscraping/webscraping#excs%3Escraping-kodim.cz)"
   ]
  },
  {
   "cell_type": "code",
   "execution_count": 6,
   "metadata": {},
   "outputs": [],
   "source": [
    "# Napište program, který vypíše na výstup všechny názvy cvičení z lekce Vstup a výstup spolu s jejich obtížností.\n",
    "url = \"https://kodim.cz/kurzy/uvod-do-progr-1/prvni-krucky/vstup-vystup/excs\"\n",
    "session = HTMLSession()\n",
    "kodim = session.get(url)"
   ]
  },
  {
   "cell_type": "code",
   "execution_count": 7,
   "metadata": {},
   "outputs": [],
   "source": [
    "nadpisy = [el.text for el in kodim.html.find('.exercise-assign__title')]"
   ]
  },
  {
   "cell_type": "code",
   "execution_count": 8,
   "metadata": {},
   "outputs": [],
   "source": [
    "obtiznosti = [el.text for el in kodim.html.find('.exercise-assign__demand')]\n",
    "# Nebo\n",
    "# obtiznosti = [odkaz.text for odkaz in kodim.html.find('.demand__text')]"
   ]
  },
  {
   "cell_type": "code",
   "execution_count": 9,
   "metadata": {},
   "outputs": [
    {
     "name": "stdout",
     "output_type": "stream",
     "text": [
      "Jednoduchý výstup (to dáš)\n",
      "Jednoduchý vstup (to dáš)\n",
      "Zakázka pro divadlo (to dáš)\n",
      "Házení kostkami (zavařovačka)\n",
      "Generátor čísel (to dáš)\n"
     ]
    }
   ],
   "source": [
    "for nadpis, obtiznost in zip(nadpisy, obtiznosti):\n",
    "    print(f\"{nadpis} ({obtiznost})\")"
   ]
  }
 ],
 "metadata": {
  "kernelspec": {
   "display_name": "Python 3",
   "language": "python",
   "name": "python3"
  },
  "language_info": {
   "codemirror_mode": {
    "name": "ipython",
    "version": 3
   },
   "file_extension": ".py",
   "mimetype": "text/x-python",
   "name": "python",
   "nbconvert_exporter": "python",
   "pygments_lexer": "ipython3",
   "version": "3.9.7"
  },
  "orig_nbformat": 4
 },
 "nbformat": 4,
 "nbformat_minor": 2
}
