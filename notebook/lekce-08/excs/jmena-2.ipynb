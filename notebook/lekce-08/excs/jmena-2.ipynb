{
 "cells": [
  {
   "cell_type": "markdown",
   "metadata": {},
   "source": [
    "## Česká jména 2"
   ]
  },
  {
   "cell_type": "markdown",
   "metadata": {},
   "source": [
    "Stáhni si soubor jmena.csv se jmény tak, aby Pandas vyrobil číselný index. "
   ]
  },
  {
   "cell_type": "code",
   "execution_count": 5,
   "metadata": {},
   "outputs": [],
   "source": [
    "import pandas\n",
    "\n",
    "jmena = pandas.read_csv(\"jmena.csv\")\n"
   ]
  },
  {
   "cell_type": "code",
   "execution_count": 6,
   "metadata": {},
   "outputs": [
    {
     "data": {
      "text/html": [
       "<div>\n",
       "<style scoped>\n",
       "    .dataframe tbody tr th:only-of-type {\n",
       "        vertical-align: middle;\n",
       "    }\n",
       "\n",
       "    .dataframe tbody tr th {\n",
       "        vertical-align: top;\n",
       "    }\n",
       "\n",
       "    .dataframe thead th {\n",
       "        text-align: right;\n",
       "    }\n",
       "</style>\n",
       "<table border=\"1\" class=\"dataframe\">\n",
       "  <thead>\n",
       "    <tr style=\"text-align: right;\">\n",
       "      <th></th>\n",
       "      <th>jméno</th>\n",
       "      <th>četnost</th>\n",
       "      <th>věk</th>\n",
       "      <th>pohlaví</th>\n",
       "      <th>svátek</th>\n",
       "      <th>původ</th>\n",
       "    </tr>\n",
       "  </thead>\n",
       "  <tbody>\n",
       "    <tr>\n",
       "      <th>0</th>\n",
       "      <td>Jiří</td>\n",
       "      <td>296090</td>\n",
       "      <td>49</td>\n",
       "      <td>m</td>\n",
       "      <td>24.4</td>\n",
       "      <td>řecký</td>\n",
       "    </tr>\n",
       "    <tr>\n",
       "      <th>1</th>\n",
       "      <td>Jan</td>\n",
       "      <td>293938</td>\n",
       "      <td>40</td>\n",
       "      <td>m</td>\n",
       "      <td>24.6. a 6.7</td>\n",
       "      <td>hebrejský</td>\n",
       "    </tr>\n",
       "    <tr>\n",
       "      <th>2</th>\n",
       "      <td>Petr</td>\n",
       "      <td>272135</td>\n",
       "      <td>42</td>\n",
       "      <td>m</td>\n",
       "      <td>22.2. a 29.6</td>\n",
       "      <td>řecký</td>\n",
       "    </tr>\n",
       "    <tr>\n",
       "      <th>3</th>\n",
       "      <td>Jana</td>\n",
       "      <td>264944</td>\n",
       "      <td>50</td>\n",
       "      <td>ž</td>\n",
       "      <td>24.5</td>\n",
       "      <td>hebrejský</td>\n",
       "    </tr>\n",
       "    <tr>\n",
       "      <th>4</th>\n",
       "      <td>Marie</td>\n",
       "      <td>260526</td>\n",
       "      <td>65</td>\n",
       "      <td>ž</td>\n",
       "      <td>12.9</td>\n",
       "      <td>hebrejský</td>\n",
       "    </tr>\n",
       "  </tbody>\n",
       "</table>\n",
       "</div>"
      ],
      "text/plain": [
       "   jméno  četnost  věk pohlaví        svátek      původ\n",
       "0   Jiří   296090   49       m          24.4      řecký\n",
       "1    Jan   293938   40       m   24.6. a 6.7  hebrejský\n",
       "2   Petr   272135   42       m  22.2. a 29.6      řecký\n",
       "3   Jana   264944   50       ž          24.5  hebrejský\n",
       "4  Marie   260526   65       ž          12.9  hebrejský"
      ]
     },
     "execution_count": 6,
     "metadata": {},
     "output_type": "execute_result"
    }
   ],
   "source": [
    "jmena.head()"
   ]
  },
  {
   "cell_type": "code",
   "execution_count": 7,
   "metadata": {},
   "outputs": [],
   "source": [
    "## Sloupce si můžu přejmenovat a vyhnout se psaní diakritiky\n",
    "# jmena2.columns = [\"jmeno\", \"cetnost\", \"vek\", \"pohlavi\", \"svatek\", \"puvod\"]"
   ]
  },
  {
   "cell_type": "markdown",
   "metadata": {},
   "source": [
    "Proveď následující dotazy:"
   ]
  },
  {
   "cell_type": "markdown",
   "metadata": {},
   "source": [
    "Vypiš všechny řádky se jmény, jejichž nositelé mají průměrný věk vyšší než 60.\n"
   ]
  },
  {
   "cell_type": "code",
   "execution_count": 8,
   "metadata": {},
   "outputs": [
    {
     "data": {
      "text/html": [
       "<div>\n",
       "<style scoped>\n",
       "    .dataframe tbody tr th:only-of-type {\n",
       "        vertical-align: middle;\n",
       "    }\n",
       "\n",
       "    .dataframe tbody tr th {\n",
       "        vertical-align: top;\n",
       "    }\n",
       "\n",
       "    .dataframe thead th {\n",
       "        text-align: right;\n",
       "    }\n",
       "</style>\n",
       "<table border=\"1\" class=\"dataframe\">\n",
       "  <thead>\n",
       "    <tr style=\"text-align: right;\">\n",
       "      <th></th>\n",
       "      <th>jméno</th>\n",
       "      <th>četnost</th>\n",
       "      <th>věk</th>\n",
       "      <th>pohlaví</th>\n",
       "      <th>svátek</th>\n",
       "      <th>původ</th>\n",
       "    </tr>\n",
       "  </thead>\n",
       "  <tbody>\n",
       "    <tr>\n",
       "      <th>4</th>\n",
       "      <td>Marie</td>\n",
       "      <td>260526</td>\n",
       "      <td>65</td>\n",
       "      <td>ž</td>\n",
       "      <td>12.9</td>\n",
       "      <td>hebrejský</td>\n",
       "    </tr>\n",
       "    <tr>\n",
       "      <th>23</th>\n",
       "      <td>Věra</td>\n",
       "      <td>107388</td>\n",
       "      <td>63</td>\n",
       "      <td>ž</td>\n",
       "      <td>8.10</td>\n",
       "      <td>slovanský</td>\n",
       "    </tr>\n",
       "    <tr>\n",
       "      <th>30</th>\n",
       "      <td>Jaroslava</td>\n",
       "      <td>84556</td>\n",
       "      <td>63</td>\n",
       "      <td>ž</td>\n",
       "      <td>1.7</td>\n",
       "      <td>slovanský</td>\n",
       "    </tr>\n",
       "    <tr>\n",
       "      <th>38</th>\n",
       "      <td>Ludmila</td>\n",
       "      <td>72750</td>\n",
       "      <td>65</td>\n",
       "      <td>ž</td>\n",
       "      <td>16.9</td>\n",
       "      <td>slovanský</td>\n",
       "    </tr>\n",
       "    <tr>\n",
       "      <th>40</th>\n",
       "      <td>Zdeňka</td>\n",
       "      <td>69060</td>\n",
       "      <td>61</td>\n",
       "      <td>ž</td>\n",
       "      <td>23.6</td>\n",
       "      <td>slovanský</td>\n",
       "    </tr>\n",
       "    <tr>\n",
       "      <th>50</th>\n",
       "      <td>Jarmila</td>\n",
       "      <td>59666</td>\n",
       "      <td>65</td>\n",
       "      <td>ž</td>\n",
       "      <td>4.2</td>\n",
       "      <td>slovanský</td>\n",
       "    </tr>\n",
       "    <tr>\n",
       "      <th>53</th>\n",
       "      <td>Jiřina</td>\n",
       "      <td>55366</td>\n",
       "      <td>64</td>\n",
       "      <td>ž</td>\n",
       "      <td>15.2</td>\n",
       "      <td>řecký</td>\n",
       "    </tr>\n",
       "    <tr>\n",
       "      <th>64</th>\n",
       "      <td>Vlasta</td>\n",
       "      <td>41736</td>\n",
       "      <td>68</td>\n",
       "      <td>ž</td>\n",
       "      <td>23.12</td>\n",
       "      <td>slovanský</td>\n",
       "    </tr>\n",
       "    <tr>\n",
       "      <th>68</th>\n",
       "      <td>Božena</td>\n",
       "      <td>39851</td>\n",
       "      <td>72</td>\n",
       "      <td>ž</td>\n",
       "      <td>11.2</td>\n",
       "      <td>slovanský</td>\n",
       "    </tr>\n",
       "    <tr>\n",
       "      <th>70</th>\n",
       "      <td>Libuše</td>\n",
       "      <td>39269</td>\n",
       "      <td>66</td>\n",
       "      <td>ž</td>\n",
       "      <td>10.7</td>\n",
       "      <td>slovanský</td>\n",
       "    </tr>\n",
       "    <tr>\n",
       "      <th>71</th>\n",
       "      <td>Marta</td>\n",
       "      <td>38897</td>\n",
       "      <td>63</td>\n",
       "      <td>ž</td>\n",
       "      <td>29.7</td>\n",
       "      <td>aramejský</td>\n",
       "    </tr>\n",
       "    <tr>\n",
       "      <th>91</th>\n",
       "      <td>Růžena</td>\n",
       "      <td>28952</td>\n",
       "      <td>69</td>\n",
       "      <td>ž</td>\n",
       "      <td>13.3</td>\n",
       "      <td>slovanský</td>\n",
       "    </tr>\n",
       "    <tr>\n",
       "      <th>99</th>\n",
       "      <td>Zdenka</td>\n",
       "      <td>25416</td>\n",
       "      <td>68</td>\n",
       "      <td>ž</td>\n",
       "      <td>23.6</td>\n",
       "      <td>slovanský</td>\n",
       "    </tr>\n",
       "  </tbody>\n",
       "</table>\n",
       "</div>"
      ],
      "text/plain": [
       "        jméno  četnost  věk pohlaví svátek      původ\n",
       "4       Marie   260526   65       ž   12.9  hebrejský\n",
       "23       Věra   107388   63       ž   8.10  slovanský\n",
       "30  Jaroslava    84556   63       ž    1.7  slovanský\n",
       "38    Ludmila    72750   65       ž   16.9  slovanský\n",
       "40     Zdeňka    69060   61       ž   23.6  slovanský\n",
       "50    Jarmila    59666   65       ž    4.2  slovanský\n",
       "53     Jiřina    55366   64       ž   15.2      řecký\n",
       "64     Vlasta    41736   68       ž  23.12  slovanský\n",
       "68     Božena    39851   72       ž   11.2  slovanský\n",
       "70     Libuše    39269   66       ž   10.7  slovanský\n",
       "71      Marta    38897   63       ž   29.7  aramejský\n",
       "91     Růžena    28952   69       ž   13.3  slovanský\n",
       "99     Zdenka    25416   68       ž   23.6  slovanský"
      ]
     },
     "execution_count": 8,
     "metadata": {},
     "output_type": "execute_result"
    }
   ],
   "source": [
    "jmena[jmena[\"věk\"] > 60]"
   ]
  },
  {
   "cell_type": "markdown",
   "metadata": {},
   "source": [
    "Vypiš pouze jména z těch řádků, kde četnost je mezi 80 000 a 100 000.\n"
   ]
  },
  {
   "cell_type": "code",
   "execution_count": 9,
   "metadata": {},
   "outputs": [
    {
     "data": {
      "text/html": [
       "<div>\n",
       "<style scoped>\n",
       "    .dataframe tbody tr th:only-of-type {\n",
       "        vertical-align: middle;\n",
       "    }\n",
       "\n",
       "    .dataframe tbody tr th {\n",
       "        vertical-align: top;\n",
       "    }\n",
       "\n",
       "    .dataframe thead th {\n",
       "        text-align: right;\n",
       "    }\n",
       "</style>\n",
       "<table border=\"1\" class=\"dataframe\">\n",
       "  <thead>\n",
       "    <tr style=\"text-align: right;\">\n",
       "      <th></th>\n",
       "      <th>jméno</th>\n",
       "      <th>četnost</th>\n",
       "      <th>věk</th>\n",
       "      <th>pohlaví</th>\n",
       "      <th>svátek</th>\n",
       "      <th>původ</th>\n",
       "    </tr>\n",
       "  </thead>\n",
       "  <tbody>\n",
       "    <tr>\n",
       "      <th>29</th>\n",
       "      <td>Veronika</td>\n",
       "      <td>88854</td>\n",
       "      <td>25</td>\n",
       "      <td>ž</td>\n",
       "      <td>7.2</td>\n",
       "      <td>řecký</td>\n",
       "    </tr>\n",
       "    <tr>\n",
       "      <th>30</th>\n",
       "      <td>Jaroslava</td>\n",
       "      <td>84556</td>\n",
       "      <td>63</td>\n",
       "      <td>ž</td>\n",
       "      <td>1.7</td>\n",
       "      <td>slovanský</td>\n",
       "    </tr>\n",
       "    <tr>\n",
       "      <th>31</th>\n",
       "      <td>Vladimír</td>\n",
       "      <td>83762</td>\n",
       "      <td>56</td>\n",
       "      <td>m</td>\n",
       "      <td>23.5</td>\n",
       "      <td>slovanský</td>\n",
       "    </tr>\n",
       "    <tr>\n",
       "      <th>32</th>\n",
       "      <td>Tereza</td>\n",
       "      <td>83692</td>\n",
       "      <td>18</td>\n",
       "      <td>ž</td>\n",
       "      <td>15.10</td>\n",
       "      <td>řecký</td>\n",
       "    </tr>\n",
       "    <tr>\n",
       "      <th>33</th>\n",
       "      <td>Martina</td>\n",
       "      <td>81312</td>\n",
       "      <td>36</td>\n",
       "      <td>ž</td>\n",
       "      <td>17.7</td>\n",
       "      <td>latinský</td>\n",
       "    </tr>\n",
       "  </tbody>\n",
       "</table>\n",
       "</div>"
      ],
      "text/plain": [
       "        jméno  četnost  věk pohlaví svátek      původ\n",
       "29   Veronika    88854   25       ž    7.2      řecký\n",
       "30  Jaroslava    84556   63       ž    1.7  slovanský\n",
       "31   Vladimír    83762   56       m   23.5  slovanský\n",
       "32     Tereza    83692   18       ž  15.10      řecký\n",
       "33    Martina    81312   36       ž   17.7   latinský"
      ]
     },
     "execution_count": 9,
     "metadata": {},
     "output_type": "execute_result"
    }
   ],
   "source": [
    "jmena[(jmena[\"četnost\"] > 80_000) & (jmena[\"četnost\"] < 100_000)]"
   ]
  },
  {
   "cell_type": "markdown",
   "metadata": {},
   "source": [
    "Vypiš jména a četnost pro jména se slovanským nebo hebrejským původem. Kolik takových jmen je?\n"
   ]
  },
  {
   "cell_type": "code",
   "execution_count": 10,
   "metadata": {},
   "outputs": [
    {
     "name": "stdout",
     "output_type": "stream",
     "text": [
      "Jmen je 52.\n"
     ]
    }
   ],
   "source": [
    "vybrana_jmena = jmena[jmena[\"původ\"].isin([\"slovanský\",\"hebrejský\"])]\n",
    "# print(vybrana_jmena[[\"jméno\", \"četnost\"]])\n",
    "\n",
    "print(f\"Jmen je {vybrana_jmena.shape[0]}.\")"
   ]
  },
  {
   "cell_type": "markdown",
   "metadata": {},
   "source": [
    "Vypiš všechna jména, která mají svátek první 3 dny v prosinci."
   ]
  },
  {
   "cell_type": "code",
   "execution_count": 11,
   "metadata": {},
   "outputs": [
    {
     "name": "stdout",
     "output_type": "stream",
     "text": [
      "     jméno svátek\n",
      "97     Iva   1.12\n",
      "83  Blanka   2.12\n"
     ]
    }
   ],
   "source": [
    "prosinec_jmena = jmena[jmena[\"svátek\"].isin([\"1.12\",\"2.12\",\"3.12\"])]\n",
    "\n",
    "print(prosinec_jmena[[\"jméno\", \"svátek\"]].sort_values(\"svátek\"))\n",
    "\n",
    "## Kontrola: 3.12 má podle kalendře svátek Svatoslav\n",
    "# jmena[jmena[\"jméno\"]==\"Svatoslav\"] ## v tabulce Svatoslava nemáme"
   ]
  }
 ],
 "metadata": {
  "kernelspec": {
   "display_name": "Python 3.10.1 64-bit",
   "language": "python",
   "name": "python3"
  },
  "language_info": {
   "codemirror_mode": {
    "name": "ipython",
    "version": 3
   },
   "file_extension": ".py",
   "mimetype": "text/x-python",
   "name": "python",
   "nbconvert_exporter": "python",
   "pygments_lexer": "ipython3",
   "version": "3.9.6"
  },
  "orig_nbformat": 4,
  "vscode": {
   "interpreter": {
    "hash": "aee8b7b246df8f9039afb4144a1f6fd8d2ca17a180786b69acc140d282b71a49"
   }
  }
 },
 "nbformat": 4,
 "nbformat_minor": 2
}
